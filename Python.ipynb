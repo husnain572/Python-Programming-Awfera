{
  "cells": [
    {
      "cell_type": "markdown",
      "metadata": {
        "id": "view-in-github",
        "colab_type": "text"
      },
      "source": [
        "<a href=\"https://colab.research.google.com/github/husnain572/Python-Programming-Awfera/blob/main/Python.ipynb\" target=\"_parent\"><img src=\"https://colab.research.google.com/assets/colab-badge.svg\" alt=\"Open In Colab\"/></a>"
      ]
    },
    {
      "cell_type": "markdown",
      "metadata": {
        "id": "egERG6JxjElx"
      },
      "source": [
        "# **What is a programming Language?**\n",
        "\n",
        "A programming language is an artificial language that can be used to control the behaviour of a machine, particularly a computer. Programming languages, like human languages, are defined through the use of syntactic and semantic rules, to determine structure and meaning respectively.\n",
        "\n",
        "\n",
        "Examples are: Python, Ruby, Java, JavaScript, C, C++, and C#.\n",
        "\n",
        "Programming languages are used to write all computer programs and computer software. A programming language is like a set of instructions that the computer follows to do something.\n"
      ]
    },
    {
      "cell_type": "markdown",
      "metadata": {
        "id": "KoFL2lWJjElz"
      },
      "source": [
        "## **Installing IDE(Integrated Development Environment):**\n",
        "\n",
        "How to download and install Python on Windows:\n",
        "\n",
        "https://www.python.org/downloads/\n",
        "\n",
        "how to download and install Pycharm IDE on Windows:\n",
        "\n",
        "https://www.jetbrains.com/pycharm/download/\n",
        "\n",
        "Moreover, here you can get complete guidance about installing IDE for python on Windows.\n",
        "\n",
        "https://www.guru99.com/how-to-install-python.html"
      ]
    },
    {
      "cell_type": "markdown",
      "metadata": {
        "id": "OSxlmxvFjElz"
      },
      "source": [
        "# **Python For Beginners**\n",
        "\n",
        "\n",
        "Python is a popular programming language. It was created by Guido van Rossum, and released in 1991.\n",
        "# Why Python?\n",
        "\n",
        "\n",
        "*   Free and open source\n",
        "*   Easy to learn\n",
        "\n",
        "\n",
        "*   Portable\n",
        "*   A lot of applications including web developing, app developing and data science\n",
        "\n",
        "\n",
        "*   Can be treated in a procedural way, object oriented way and fuctional way\n",
        "\n",
        "\n",
        "\n",
        "\n",
        "\n",
        "\n"
      ]
    },
    {
      "cell_type": "markdown",
      "metadata": {
        "id": "PIZm4ktbjEl0"
      },
      "source": [
        "# **Python Syntax**"
      ]
    },
    {
      "cell_type": "code",
      "execution_count": null,
      "metadata": {
        "id": "rGMVxwKJjEl0",
        "outputId": "455c2316-d6ee-45d6-c998-64d686d8eb10"
      },
      "outputs": [
        {
          "name": "stdout",
          "output_type": "stream",
          "text": [
            "Husnain Muhammad\n"
          ]
        }
      ],
      "source": [
        "x='Husnain'\n",
        "y='Muhammad'\n",
        "print(x,y)"
      ]
    },
    {
      "cell_type": "code",
      "execution_count": null,
      "metadata": {
        "id": "yVg68Pm0jEl2",
        "outputId": "3b8ffeea-4086-46b9-c6b3-44a99151040f"
      },
      "outputs": [
        {
          "name": "stdout",
          "output_type": "stream",
          "text": [
            "the value of num1 is = 15\n",
            "the value of num2 is = 20\n"
          ]
        }
      ],
      "source": [
        "num1 = 5\n",
        "num1 = 15\n",
        "num2 = 10\n",
        "num2 = 20\n",
        "print(\"the value of num1 is =\", num1)\n",
        "print(\"the value of num2 is =\",num2)"
      ]
    },
    {
      "cell_type": "code",
      "execution_count": null,
      "metadata": {
        "id": "WIbA4lN-jEl2",
        "outputId": "aaa5fa49-220a-448e-f12a-ee386e981e1f"
      },
      "outputs": [
        {
          "name": "stdout",
          "output_type": "stream",
          "text": [
            "8\n",
            "<class 'str'>\n"
          ]
        }
      ],
      "source": [
        "a = \"8\"   # string\n",
        "print(a)\n",
        "print(type(a))"
      ]
    },
    {
      "cell_type": "code",
      "execution_count": null,
      "metadata": {
        "colab": {
          "base_uri": "https://localhost:8080/"
        },
        "id": "mltPIZxsjEl2",
        "outputId": "d95d3fe7-3322-49d2-8960-f361e048b182"
      },
      "outputs": [
        {
          "output_type": "stream",
          "name": "stdout",
          "text": [
            "Husnain\n"
          ]
        }
      ],
      "source": [
        "a=\"Husnain\"\n",
        "print (a)\n"
      ]
    },
    {
      "cell_type": "code",
      "execution_count": null,
      "metadata": {
        "colab": {
          "base_uri": "https://localhost:8080/",
          "height": 35
        },
        "id": "lMuUm619jEl3",
        "outputId": "3ae903da-2727-4dc3-a299-7a169f73dbe0"
      },
      "outputs": [
        {
          "output_type": "execute_result",
          "data": {
            "text/plain": [
              "\"print('Hello World')\\nb='7324355465753434243546575'\\nprint(b)\""
            ],
            "application/vnd.google.colaboratory.intrinsic+json": {
              "type": "string"
            }
          },
          "metadata": {},
          "execution_count": 2
        }
      ],
      "source": [
        "'''print('Hello World')\n",
        "b='7324355465753434243546575'\n",
        "print(b)'''"
      ]
    },
    {
      "cell_type": "code",
      "execution_count": null,
      "metadata": {
        "id": "V2bwyp40jEl3",
        "outputId": "5c30c8e7-6e24-4ca5-c760-b4c2a5a14adc"
      },
      "outputs": [
        {
          "name": "stdout",
          "output_type": "stream",
          "text": [
            "2345\n"
          ]
        },
        {
          "data": {
            "text/plain": [
              "int"
            ]
          },
          "execution_count": 46,
          "metadata": {},
          "output_type": "execute_result"
        }
      ],
      "source": [
        "print(2345)\n",
        "type(2345)"
      ]
    },
    {
      "cell_type": "code",
      "execution_count": null,
      "metadata": {
        "id": "FXQ6gefBjEl3",
        "outputId": "689bf760-fe85-44d0-ed57-5ec838da2ff1"
      },
      "outputs": [
        {
          "name": "stdout",
          "output_type": "stream",
          "text": [
            "10\n",
            "12\n",
            "10 + 12\n",
            "22\n"
          ]
        }
      ],
      "source": [
        "x = 10\n",
        "y = 12\n",
        "print(x)\n",
        "print(y)\n",
        "print(x,\"+\",y)\n",
        "print(x+y)"
      ]
    },
    {
      "cell_type": "code",
      "execution_count": null,
      "metadata": {
        "id": "RKqqV2rqjEl4",
        "outputId": "407f6889-0b04-4e79-d68f-216d7fb3de6d"
      },
      "outputs": [
        {
          "name": "stdout",
          "output_type": "stream",
          "text": [
            "100\n",
            "Python\n"
          ]
        }
      ],
      "source": [
        "a = 100\n",
        "print(a)\n",
        "'''This line is printing a\n",
        "If commented, it will not print'''\n",
        "b = \"Python\"\n",
        "print(b)"
      ]
    },
    {
      "cell_type": "markdown",
      "metadata": {
        "id": "xkxpRMp1jEl4"
      },
      "source": [
        "# **Comment**\n",
        "Comments can be used to explain Python code.\n",
        "\n",
        "Comments can be used to make the code more readable.\n",
        "\n",
        "Comments can be used to prevent execution when testing code.\n",
        "\n",
        "\n",
        "2 types of comments in Python:\n",
        "\n",
        "\n",
        "*   Single line comment #\n",
        "*   Multi-line comment '''  '''"
      ]
    },
    {
      "cell_type": "code",
      "execution_count": null,
      "metadata": {
        "id": "DdvxHreijEl4",
        "outputId": "1ee05ef0-0004-41fd-b4ae-7a9a9db21bef"
      },
      "outputs": [
        {
          "name": "stdout",
          "output_type": "stream",
          "text": [
            "6\n"
          ]
        }
      ],
      "source": [
        "'''It's a course\n",
        "named\n",
        "\"python\"\n",
        "\n",
        "hf'''\n",
        "print(6)"
      ]
    },
    {
      "cell_type": "code",
      "execution_count": null,
      "metadata": {
        "colab": {
          "base_uri": "https://localhost:8080/"
        },
        "id": "33j_X_OGjEl5",
        "outputId": "0cbfe112-f30f-4f70-eb4d-5d148afc57d8"
      },
      "outputs": [
        {
          "output_type": "stream",
          "name": "stdout",
          "text": [
            "Let's learn about comments.\n"
          ]
        }
      ],
      "source": [
        "print(\"Let's learn about comments.\")\n",
        "# print(\"it is a single line comment\")\n"
      ]
    },
    {
      "cell_type": "code",
      "execution_count": null,
      "metadata": {
        "id": "Wfs-vmSfjEl5",
        "outputId": "6060fdef-1135-4431-e741-9fdfd8002d29"
      },
      "outputs": [
        {
          "name": "stdout",
          "output_type": "stream",
          "text": [
            "Multi-line String\n",
            "My name is Husnain. I'm a student at university.I'm a good student.\n"
          ]
        }
      ],
      "source": [
        "print(\"\"\"Multi-line String\"\"\")\n",
        "'''or multi-line comment, you can use # with every line or\n",
        "simply use triple inverted commas(multi-line string).\n",
        "ar\n",
        "sar\n",
        "ahghjjf\n",
        "'''\n",
        "#single line cntrl+/\n",
        "\n",
        "print(\"My name is Husnain. I'm a student at university.I'm a good student.\")"
      ]
    },
    {
      "cell_type": "markdown",
      "metadata": {
        "id": "pcc33FuljEl6"
      },
      "source": [
        "# **Reserve words or keywords**\n",
        "\n",
        "Keywords are predefined, reserved words used in Python programming that have special meanings to the interpreter.\n",
        "\n",
        "We cannot use a keyword as a variable name, function name, or any other identifier. They are used to define the syntax and structure of the Python language.\n",
        "\n",
        "Following are some keywords in Python:\n",
        "\n",
        "\n",
        "**False,     is,     in,     Lambda,    True,    None,    if,     elif,    break,       else,    continue,    class,    not,    and,    or**"
      ]
    },
    {
      "cell_type": "code",
      "execution_count": null,
      "metadata": {
        "id": "FEchiprzjEl6",
        "outputId": "9cb8dd0f-27ff-493b-f9df-191e85c44f50"
      },
      "outputs": [
        {
          "ename": "SyntaxError",
          "evalue": "invalid syntax (1956869549.py, line 2)",
          "output_type": "error",
          "traceback": [
            "\u001b[0;36m  Cell \u001b[0;32mIn[40], line 2\u001b[0;36m\u001b[0m\n\u001b[0;31m    is = \"won't allow a variable\"\u001b[0m\n\u001b[0m    ^\u001b[0m\n\u001b[0;31mSyntaxError\u001b[0m\u001b[0;31m:\u001b[0m invalid syntax\n"
          ]
        }
      ],
      "source": [
        "a = \"a variable\"\n",
        "is = \"won't allow a variable\"\n",
        "print(a)\n",
        "print(is)\n",
        "\n"
      ]
    },
    {
      "cell_type": "markdown",
      "metadata": {
        "id": "zgTzDV3ajEl6"
      },
      "source": [
        "# **Python Variables**\n",
        "Variables are containers for storing data values.\n",
        "\n",
        "Python has no command for declaring a variable. There is no need to write the data type of a variable before it.\n",
        "\n",
        "A variable is created the moment you first assign a value to it."
      ]
    },
    {
      "cell_type": "code",
      "execution_count": null,
      "metadata": {
        "id": "k5X3AcSojEl6",
        "outputId": "9e0974db-a226-4c83-eed0-4c8fdefb9ce0"
      },
      "outputs": [
        {
          "name": "stdout",
          "output_type": "stream",
          "text": [
            "x\n",
            "10.3\n",
            "5 10.3\n"
          ]
        }
      ],
      "source": [
        "x = 5\n",
        "y = 10.3\n",
        "print('x')\n",
        "print(y)\n",
        "print(x,y)"
      ]
    },
    {
      "cell_type": "code",
      "execution_count": null,
      "metadata": {
        "colab": {
          "base_uri": "https://localhost:8080/"
        },
        "id": "K7tutn7ijEl7",
        "outputId": "c3130ddc-71b2-4bed-9d9c-7bdbaa09d644"
      },
      "outputs": [
        {
          "output_type": "stream",
          "name": "stdout",
          "text": [
            "Husnain Feroz\n",
            "HusnainFeroz\n",
            "Husnain Feroz\n",
            "Husnain + Feroz\n"
          ]
        }
      ],
      "source": [
        "a = \"Husnain\"\n",
        "b = 'Feroz'\n",
        "print(a,b)\n",
        "print(a+b)\n",
        "print(a+\" \"+b)\n",
        "print(a,'+',b)   #Shortcut ctrl + /"
      ]
    },
    {
      "cell_type": "code",
      "execution_count": null,
      "metadata": {
        "id": "u6hr3z_UjEl7",
        "outputId": "494fa1f2-cefb-488e-83b5-4817b0b9feb0"
      },
      "outputs": [
        {
          "name": "stdout",
          "output_type": "stream",
          "text": [
            "my_variable\n"
          ]
        }
      ],
      "source": [
        "my_variable = \"Python\"\n",
        "print(\"my_variable\")"
      ]
    },
    {
      "cell_type": "markdown",
      "metadata": {
        "id": "RI1sUvlZjEl7"
      },
      "source": [
        "# **Rules for assigning name to variable**\n",
        "\n",
        "\n",
        "\n",
        "*   A variable name must start with a letter or the underscore character and there must be no white space in a variable name\n",
        "*   A variable name cannot start with a number\n",
        "\n",
        "\n",
        "*   A variable name can only contain alpha-numeric characters and underscores (A-z, 0-9, and _ ). No special characters are allowed i.e. @num1 , Python$ are the invalid variables.\n",
        "*   Variable names are case-sensitive (age, Age and AGE are three different variables)"
      ]
    },
    {
      "cell_type": "code",
      "execution_count": null,
      "metadata": {
        "id": "G3vyb1kAjEl7",
        "outputId": "a970efa1-7cda-4e2c-99da-6b8796cfebad"
      },
      "outputs": [
        {
          "name": "stdout",
          "output_type": "stream",
          "text": [
            "3\n"
          ]
        }
      ],
      "source": [
        "age = 3\n",
        "print(age)"
      ]
    },
    {
      "cell_type": "code",
      "execution_count": null,
      "metadata": {
        "colab": {
          "base_uri": "https://localhost:8080/"
        },
        "id": "OOJKXgSAjEl7",
        "outputId": "9bf9b847-2d4d-4c70-c735-7d4202865feb"
      },
      "outputs": [
        {
          "output_type": "stream",
          "name": "stdout",
          "text": [
            "88.5\n",
            "Husnain\n"
          ]
        }
      ],
      "source": [
        "_myName  = \"Husnain\"\n",
        "myVariableName = 95\n",
        "MyVariableName = 'Pakistan'\n",
        "myVariableName = 88.5\n",
        "print(myVariableName)\n",
        "print(_myName)"
      ]
    },
    {
      "cell_type": "markdown",
      "metadata": {
        "id": "Ug0mc-5gjEl8"
      },
      "source": [
        "# **Types of variable name cases**\n",
        "Camel Case\n",
        "\n",
        "Snake Case\n",
        "\n",
        "Pascal Case"
      ]
    },
    {
      "cell_type": "code",
      "execution_count": null,
      "metadata": {
        "id": "6wmOFmWOjEl8",
        "outputId": "01c307c9-f209-40ca-c098-c71cb1fed714"
      },
      "outputs": [
        {
          "name": "stdout",
          "output_type": "stream",
          "text": [
            "5\n"
          ]
        }
      ],
      "source": [
        "a = 10\n",
        "a = 5\n",
        "print(a)"
      ]
    },
    {
      "cell_type": "code",
      "execution_count": null,
      "metadata": {
        "id": "1KOnv_p9jEl8"
      },
      "outputs": [],
      "source": [
        "camelCaseThird = '100'\n",
        "snake_case = 5.9\n",
        "PascalCase = \"Python\""
      ]
    },
    {
      "cell_type": "markdown",
      "metadata": {
        "id": "OSeqlyF1jEl8"
      },
      "source": [
        "# **Assigning values to the variable:**\n",
        "\n",
        "\n",
        "\n",
        "\n",
        "* Assigning multiple values to multiple variables\n",
        "  \n",
        "*   Assigning one value to multiple variables\n"
      ]
    },
    {
      "cell_type": "markdown",
      "metadata": {
        "id": "C4OXWHcGjEl9"
      },
      "source": [
        "# **Multiple Values to Multiple Variables**\n",
        "\n",
        "Python allows you to assign values to multiple variables in one line."
      ]
    },
    {
      "cell_type": "code",
      "execution_count": null,
      "metadata": {
        "id": "Opjrj7M8jEl9",
        "outputId": "8cab0589-f72c-4539-e5d4-92176b3897a4"
      },
      "outputs": [
        {
          "name": "stdout",
          "output_type": "stream",
          "text": [
            "Orange\n",
            "5\n",
            "Apple\n"
          ]
        }
      ],
      "source": [
        "x, y, z = \"Orange\", 5, \"Apple\"\n",
        "print(x)\n",
        "print(y)\n",
        "print(z)\n",
        "\n"
      ]
    },
    {
      "cell_type": "code",
      "execution_count": null,
      "metadata": {
        "id": "akNwzBsVjEl9",
        "outputId": "c72342ef-9ee0-4645-9a13-ce189304a18a"
      },
      "outputs": [
        {
          "name": "stdout",
          "output_type": "stream",
          "text": [
            "This is a sum of a and b = 13\n"
          ]
        }
      ],
      "source": [
        "a , b = 5 , 8\n",
        "c = a+b\n",
        "print(\"This is a sum of a and b =\", c)\n"
      ]
    },
    {
      "cell_type": "markdown",
      "metadata": {
        "id": "TN0BD2MCjEl9"
      },
      "source": [
        "# **One Value to Multiple Variables**\n",
        "\n",
        "You can also assign the same value to multiple variables in one line."
      ]
    },
    {
      "cell_type": "code",
      "execution_count": null,
      "metadata": {
        "id": "SUBdmdESjEl9",
        "outputId": "5e9e3424-6487-413a-9745-6d92022a6e79"
      },
      "outputs": [
        {
          "name": "stdout",
          "output_type": "stream",
          "text": [
            "Orange\n",
            "Orange\n",
            "Orange\n"
          ]
        }
      ],
      "source": [
        "a = b = c = \"Orange\"\n",
        "print(a)\n",
        "print(b)\n",
        "print(c)"
      ]
    },
    {
      "cell_type": "code",
      "execution_count": null,
      "metadata": {
        "id": "x6bPfE8ujEl-",
        "outputId": "07318635-2602-488c-ce9e-9fdf2818476c"
      },
      "outputs": [
        {
          "name": "stdout",
          "output_type": "stream",
          "text": [
            "2\n"
          ]
        }
      ],
      "source": [
        "b = 2\n",
        "print(b)"
      ]
    },
    {
      "cell_type": "code",
      "execution_count": null,
      "metadata": {
        "id": "1I5fWzXWjEl-",
        "outputId": "fdf97ae9-d4b0-4c9c-cf6b-5c8331b2b84d"
      },
      "outputs": [
        {
          "name": "stdout",
          "output_type": "stream",
          "text": [
            "2\n"
          ]
        }
      ],
      "source": [
        "#b = 45\n",
        "print(b)"
      ]
    },
    {
      "cell_type": "code",
      "execution_count": null,
      "metadata": {
        "id": "R1CBZsGkjEl-",
        "outputId": "2d87edd0-0cdb-4752-d9d2-c77a2a02b7f4"
      },
      "outputs": [
        {
          "name": "stdout",
          "output_type": "stream",
          "text": [
            "5\n",
            "6\n",
            "7\n",
            "8\n"
          ]
        }
      ],
      "source": [
        "x , y, z , a = 5 , 6, 7  , 8\n",
        "print(x)\n",
        "print(y)\n",
        "print(z)\n",
        "print(a)"
      ]
    },
    {
      "cell_type": "markdown",
      "metadata": {
        "id": "vZZx27-hjEl_"
      },
      "source": [
        "#**Getting Address of a Variable**\n",
        "\n",
        "Use id function for it.\n",
        "\n",
        "The `id()` function returns a unique id for the specified object.\n",
        "\n",
        "All objects in Python has its own unique id.\n",
        "\n",
        "The id is assigned to the object when it is created.\n",
        "\n",
        "The id is the object's memory address, and will be different for each time you run the program."
      ]
    },
    {
      "cell_type": "code",
      "execution_count": null,
      "metadata": {
        "id": "zuDx8-t9jEl_",
        "outputId": "f6ee97e2-754b-4355-e101-ca2a95945d3c"
      },
      "outputs": [
        {
          "name": "stdout",
          "output_type": "stream",
          "text": [
            "4489079888\n",
            "4489075632\n"
          ]
        }
      ],
      "source": [
        "X = 139810907914576\n",
        "print(id(139810907914576))  # Creates a temporary object for evaluation\n",
        "print(id(X))                # Refers to the actual object assigned to X\n"
      ]
    },
    {
      "cell_type": "markdown",
      "metadata": {
        "id": "lISjn8ZojEmF"
      },
      "source": [
        "- When id(139810907914576) is evaluated, Python creates a temporary integer object to compute its id.\n",
        "- The variable X is already referencing the original object for 139810907914576."
      ]
    },
    {
      "cell_type": "code",
      "execution_count": null,
      "metadata": {
        "id": "-UgYCXqsjEmF",
        "outputId": "e30a1d35-29bc-49a8-d550-b5a6c00225a0"
      },
      "outputs": [
        {
          "name": "stdout",
          "output_type": "stream",
          "text": [
            "4438608520\n"
          ]
        }
      ],
      "source": [
        "b = 2\n",
        "print(id(b))"
      ]
    },
    {
      "cell_type": "code",
      "execution_count": null,
      "metadata": {
        "id": "TY2DOlChjEmG",
        "outputId": "b43a473d-9ad9-489b-e7cb-716a736b680f"
      },
      "outputs": [
        {
          "name": "stdout",
          "output_type": "stream",
          "text": [
            "10\n",
            "5\n",
            "4438608776\n",
            "4438608616\n"
          ]
        }
      ],
      "source": [
        "x = 5\n",
        "y = 5\n",
        "x = 10\n",
        "print(x)\n",
        "print(y)\n",
        "print(id(x))\n",
        "print(id(y))"
      ]
    },
    {
      "cell_type": "code",
      "execution_count": null,
      "metadata": {
        "id": "w2BqhPshjEmG",
        "outputId": "a38e3203-0c62-40f7-8b08-1bfcdef17a35"
      },
      "outputs": [
        {
          "name": "stdout",
          "output_type": "stream",
          "text": [
            "4489394720\n",
            "4489396016\n"
          ]
        }
      ],
      "source": [
        "x = \"Hello\"\n",
        "print(id(x))\n",
        "y = \"Hello1\"\n",
        "print(id(y))"
      ]
    },
    {
      "cell_type": "markdown",
      "metadata": {
        "id": "GucgI7r1jEmG"
      },
      "source": [
        "# **Data Types**\n",
        "Following are some built-in data types in Python:\n",
        "\n",
        "\n",
        "*   Text Type:  `str` -->  \" \"\n",
        "*   Numeric Types:  `int`, `float`  -->  123, 12.97683\n",
        "*   Sequence Types: `list`, `tuple`  -->  [1,3,4,5] , (1,8,6,4)\n",
        "*   Mapping Type: `dict`  -->  {}\n",
        "*   Set Type: `set` -->  {[ ]}\n",
        "*   Boolean Type: `bool`  -->  TRUE and FALSE\n",
        "\n",
        "\n",
        "\n",
        "\n",
        "\n",
        "\n",
        "\n",
        "---\n"
      ]
    },
    {
      "cell_type": "code",
      "execution_count": null,
      "metadata": {
        "id": "Efv-DDTEjEmG",
        "outputId": "fb1a1c8e-f74c-418f-81bc-03a52949e619"
      },
      "outputs": [
        {
          "name": "stdout",
          "output_type": "stream",
          "text": [
            "Programming\n",
            "20\n",
            "18.23\n",
            "False\n"
          ]
        }
      ],
      "source": [
        "string_var = \"Programming\"\n",
        "integer_var = 20\n",
        "float_var = 18.23\n",
        "bool_var = False\n",
        "\n",
        "print(string_var)\n",
        "print(integer_var)\n",
        "print(float_var)\n",
        "print(bool_var)\n",
        "\n"
      ]
    },
    {
      "cell_type": "markdown",
      "metadata": {
        "id": "p8Kp8pNZjEmG"
      },
      "source": [
        "**Getting the Data type**\n",
        "\n",
        "You can get the data type of any object by using the **type()** function:\n"
      ]
    },
    {
      "cell_type": "code",
      "execution_count": null,
      "metadata": {
        "id": "o85g6t8GjEmG",
        "outputId": "b5a87e38-69f7-484f-e1f2-9b0fec3eeb25"
      },
      "outputs": [
        {
          "name": "stdout",
          "output_type": "stream",
          "text": [
            "<class 'str'>\n",
            "70\n"
          ]
        }
      ],
      "source": [
        "a = \"70\"\n",
        "print(type(a))\n",
        "print(a)"
      ]
    },
    {
      "cell_type": "code",
      "execution_count": null,
      "metadata": {
        "id": "UyG1IiubjEmH",
        "outputId": "77d5caf2-16ec-474c-e3a8-d765af910593"
      },
      "outputs": [
        {
          "name": "stdout",
          "output_type": "stream",
          "text": [
            "1\n",
            "5\n",
            "<class 'float'>\n"
          ]
        }
      ],
      "source": [
        "Var1 = 5\n",
        "var1 = 1\n",
        "print(var1)\n",
        "print(Var1)\n",
        "\n",
        "var2 = 2.5\n",
        "print(type(var2))\n",
        "\n",
        "\n"
      ]
    },
    {
      "cell_type": "code",
      "execution_count": null,
      "metadata": {
        "id": "M06Hl2xAjEmH",
        "outputId": "ff381a52-6cde-43d1-a0b4-739c86e7557a"
      },
      "outputs": [
        {
          "name": "stdout",
          "output_type": "stream",
          "text": [
            "<class 'str'>\n",
            "Hello\n"
          ]
        }
      ],
      "source": [
        "var3 = \"\"\"Hello\"\"\"\"\"\"\"\"\"\"\"\"\"\"\"\"\"\"\"\"\"\"\"\n",
        "print(var3)\n",
        "print(type(var3))"
      ]
    },
    {
      "cell_type": "code",
      "execution_count": null,
      "metadata": {
        "id": "GVWWw70_jEmH",
        "outputId": "997f122d-09a1-4d9a-fb3b-d2ada1774397"
      },
      "outputs": [
        {
          "name": "stdout",
          "output_type": "stream",
          "text": [
            "<class 'bool'>\n"
          ]
        }
      ],
      "source": [
        "var4 = True\n",
        "\n",
        "print(type(var4))"
      ]
    },
    {
      "cell_type": "code",
      "execution_count": null,
      "metadata": {
        "id": "Jrr532pvjEmH",
        "outputId": "61cd7f51-21ed-4f61-f523-ba55681b496b"
      },
      "outputs": [
        {
          "name": "stdout",
          "output_type": "stream",
          "text": [
            "<class 'str'>\n"
          ]
        }
      ],
      "source": [
        "a = '100'\n",
        "print(type(a))"
      ]
    },
    {
      "cell_type": "markdown",
      "metadata": {
        "id": "fHqanvbyjEmH"
      },
      "source": [
        "# **Type Casting in Python**\n",
        "We can change the data type of a variable or a value.\n"
      ]
    },
    {
      "cell_type": "code",
      "execution_count": null,
      "metadata": {
        "id": "zBlWPS6hjEmI",
        "outputId": "067d2788-bfb2-4836-ca4f-856987324cc1"
      },
      "outputs": [
        {
          "name": "stdout",
          "output_type": "stream",
          "text": [
            "89\n",
            "<class 'int'>\n"
          ]
        }
      ],
      "source": [
        "a = 89.9\n",
        "a = int(a)\n",
        "print(a)\n",
        "print(type(a))"
      ]
    },
    {
      "cell_type": "code",
      "execution_count": null,
      "metadata": {
        "id": "vszkQSnPjEmI",
        "outputId": "1f7cadea-79d5-460c-c061-04ae351aa645"
      },
      "outputs": [
        {
          "name": "stdout",
          "output_type": "stream",
          "text": [
            "789.8\n",
            "<class 'str'>\n"
          ]
        }
      ],
      "source": [
        "a =str(789.8)\n",
        "print(a)\n",
        "print(type(a))"
      ]
    },
    {
      "cell_type": "code",
      "execution_count": null,
      "metadata": {
        "id": "lDnELT5IjEmI",
        "outputId": "833c9d65-bbe4-48bc-db86-3da35c95469f"
      },
      "outputs": [
        {
          "name": "stdout",
          "output_type": "stream",
          "text": [
            "<class 'str'>\n",
            "105\n",
            "<class 'int'>\n",
            "90.8\n",
            "<class 'str'>\n"
          ]
        }
      ],
      "source": [
        "first = \"105\"\n",
        "print(type(first))\n",
        "first = int(first)\n",
        "print(first)\n",
        "print(type(first))\n",
        "second = 90.8\n",
        "third = str(second)\n",
        "print(third)\n",
        "print(type(third))\n"
      ]
    },
    {
      "cell_type": "code",
      "execution_count": null,
      "metadata": {
        "id": "FkwCiEdXjEmI",
        "outputId": "e73caee8-9226-4c0d-b96e-128e995c0a90"
      },
      "outputs": [
        {
          "name": "stdout",
          "output_type": "stream",
          "text": [
            "False\n",
            "<class 'str'>\n"
          ]
        }
      ],
      "source": [
        "string = False\n",
        "string1 = str(string)\n",
        "print(string1)\n",
        "print(type(string1))"
      ]
    },
    {
      "cell_type": "code",
      "execution_count": null,
      "metadata": {
        "id": "XSTe_1P9jEmJ",
        "outputId": "17dc217a-d44e-4549-9fe4-79eab58f7db0"
      },
      "outputs": [
        {
          "name": "stdout",
          "output_type": "stream",
          "text": [
            "False\n"
          ]
        }
      ],
      "source": [
        "integer = 0\n",
        "boolean = bool(integer)\n",
        "print(boolean)"
      ]
    },
    {
      "cell_type": "code",
      "execution_count": null,
      "metadata": {
        "id": "Y9WUOOCsjEmJ",
        "outputId": "a4634af0-86b2-42ab-e226-ceb6214ab931"
      },
      "outputs": [
        {
          "name": "stdout",
          "output_type": "stream",
          "text": [
            "True\n"
          ]
        }
      ],
      "source": [
        "integer = 12\n",
        "boolean = bool(integer)\n",
        "print(boolean)"
      ]
    },
    {
      "cell_type": "code",
      "execution_count": null,
      "metadata": {
        "id": "wnFymZA0jEmJ",
        "outputId": "e45a4f7f-0e75-42b9-8cab-b8418fccdb1f"
      },
      "outputs": [
        {
          "name": "stdout",
          "output_type": "stream",
          "text": [
            "12.0\n"
          ]
        },
        {
          "data": {
            "text/plain": [
              "float"
            ]
          },
          "execution_count": 102,
          "metadata": {},
          "output_type": "execute_result"
        }
      ],
      "source": [
        "marks = float(input(\"Enter your marks =\"))\n",
        "print(marks)\n",
        "type(marks)"
      ]
    },
    {
      "cell_type": "code",
      "execution_count": null,
      "metadata": {
        "id": "ubcID63vjEmJ",
        "outputId": "823144c0-2177-424e-ec3d-692ffa8036f5"
      },
      "outputs": [
        {
          "name": "stdout",
          "output_type": "stream",
          "text": [
            "25 %\n"
          ]
        }
      ],
      "source": [
        "marks = int(input(\"Enter your obtained marks =\"))\n",
        "total_marks = int(input('Enter total marks of Maths subject ='))\n",
        "percentage = marks/total_marks*100\n",
        "print(int(percentage), \"%\")"
      ]
    },
    {
      "cell_type": "code",
      "execution_count": null,
      "metadata": {
        "id": "n3wJs69ijEmJ",
        "outputId": "3a6e8ddb-b5e2-4110-c535-2f9aa8ec2687"
      },
      "outputs": [
        {
          "name": "stdout",
          "output_type": "stream",
          "text": [
            "your age is:  12\n",
            "your age after 5 years will be = 17\n"
          ]
        }
      ],
      "source": [
        "# Input Function\n",
        "age = int(input(\"Enter your age: \"))\n",
        "print(\"your age is: \", age)\n",
        "print(\"your age after 5 years will be =\",age + 5 )"
      ]
    },
    {
      "cell_type": "code",
      "execution_count": null,
      "metadata": {
        "id": "_vXqAB07jEmK",
        "outputId": "ba92e0e1-a2f4-4906-afb3-2fbd4775bcd7"
      },
      "outputs": [
        {
          "name": "stdout",
          "output_type": "stream",
          "text": [
            "True\n",
            "<class 'bool'>\n"
          ]
        }
      ],
      "source": [
        "x = \"Python is\"\n",
        "X = bool(x)\n",
        "print(X)\n",
        "print(type(X))"
      ]
    },
    {
      "cell_type": "markdown",
      "metadata": {
        "id": "XPbnchK-jEmK"
      },
      "source": [
        "# **Operators**\n",
        "\n",
        "Operators are used to perform operations on variables and values.\n",
        "Python divides the operators in the following groups:\n",
        "*   Arithmetic operators\n",
        "\n",
        "*   Assignment operators\n",
        "\n",
        "*   Comparison operators\n",
        "\n",
        "*   Logical operators\n",
        "\n",
        "*   Membership operators\n",
        "\n"
      ]
    },
    {
      "cell_type": "markdown",
      "metadata": {
        "id": "hcp14wgXjEmK"
      },
      "source": [
        "# **Arithmetic Operators**\n",
        "\n",
        "* Addition +\n",
        "* Subtraction -\n",
        "* Multiplicatin *\n",
        "* Division /\n",
        "* Modulus %\n",
        "* Exponential **\n",
        "* Floor Division //"
      ]
    },
    {
      "cell_type": "code",
      "execution_count": null,
      "metadata": {
        "id": "bborxt8gjEmK",
        "outputId": "d5d50030-6793-49b6-b49d-49b73a84d054"
      },
      "outputs": [
        {
          "name": "stdout",
          "output_type": "stream",
          "text": [
            "<class 'int'>\n",
            "14\n"
          ]
        }
      ],
      "source": [
        "x = int(input())\n",
        "print(type(x))\n",
        "print(x+2)"
      ]
    },
    {
      "cell_type": "code",
      "execution_count": null,
      "metadata": {
        "id": "bWKfgzC_jEmK",
        "outputId": "f4344e74-ffca-421d-a6a6-ea8ca90d45c6"
      },
      "outputs": [
        {
          "name": "stdout",
          "output_type": "stream",
          "text": [
            "56\n",
            "<class 'int'>\n",
            "58\n"
          ]
        }
      ],
      "source": [
        "#input function\n",
        "a = int(input(\"Enter number: \"))\n",
        "print(a)\n",
        "print(type(a))\n",
        "print(a+2)"
      ]
    },
    {
      "cell_type": "code",
      "execution_count": null,
      "metadata": {
        "id": "fex36BZ0jEmK"
      },
      "outputs": [],
      "source": [
        "print(8.0+4)"
      ]
    },
    {
      "cell_type": "code",
      "execution_count": null,
      "metadata": {
        "id": "Kdl2zxa-jEmL",
        "outputId": "79c6ef11-1904-43fa-b4eb-954b5b095cd1"
      },
      "outputs": [
        {
          "name": "stdout",
          "output_type": "stream",
          "text": [
            "60\n",
            "<class 'int'>\n",
            "10\n"
          ]
        }
      ],
      "source": [
        "#Addition\n",
        "a = int(input(\"Enter a number \"))\n",
        "b = 4\n",
        "c = a + b\n",
        "print(c)\n",
        "print(type(c))\n",
        "# print(3 + 7)"
      ]
    },
    {
      "cell_type": "code",
      "execution_count": null,
      "metadata": {
        "id": "NCtS8Yp-jEmL"
      },
      "outputs": [],
      "source": [
        "#Subtraction\n",
        "a = 4\n",
        "b = 5.0\n",
        "\n",
        "print(a - b)\n",
        "print(type(a - b))"
      ]
    },
    {
      "cell_type": "code",
      "execution_count": null,
      "metadata": {
        "id": "c7PMlb3fjEmL"
      },
      "outputs": [],
      "source": [
        "#Multiplication\n",
        "a = 2.0\n",
        "b = 4\n",
        "print(a*b)\n",
        "print(type(a*b))"
      ]
    },
    {
      "cell_type": "code",
      "execution_count": null,
      "metadata": {
        "id": "y36sgLgHjEmL",
        "outputId": "36969803-42ae-44a9-b9df-d88580762fa5"
      },
      "outputs": [
        {
          "name": "stdout",
          "output_type": "stream",
          "text": [
            "10.0\n",
            "<class 'float'>\n",
            "10 <class 'int'>\n"
          ]
        }
      ],
      "source": [
        "#Division (always gives float)\n",
        "x = 50\n",
        "y = 5\n",
        "z = x/y\n",
        "print(z)\n",
        "print(type(z))\n",
        "var = int(z)\n",
        "print(var, type(var))"
      ]
    },
    {
      "cell_type": "code",
      "execution_count": null,
      "metadata": {
        "id": "giD44zg8jEmL"
      },
      "outputs": [],
      "source": [
        "#Floor Division (always gives integer)\n",
        "x = 9\n",
        "y = 5\n",
        "z = x//y\n",
        "print(z)\n",
        "print(type(z))"
      ]
    },
    {
      "cell_type": "code",
      "execution_count": null,
      "metadata": {
        "id": "iUoteLcvjEmM"
      },
      "outputs": [],
      "source": [
        "print(-3/2)\n"
      ]
    },
    {
      "cell_type": "code",
      "execution_count": null,
      "metadata": {
        "id": "BrzTPVSkjEmM"
      },
      "outputs": [],
      "source": [
        "#Exponentiation or Exponential\n",
        "x = 5\n",
        "y = 2   # 5 raised to power 2, 5*5\n",
        "print(x**y)  # 1st value = base, 2nd value = power\n",
        "print(type(x**y))"
      ]
    },
    {
      "cell_type": "code",
      "execution_count": null,
      "metadata": {
        "id": "7-qM_svxjEmM"
      },
      "outputs": [],
      "source": [
        "#Modulus (gives remainder)\n",
        "x = 9\n",
        "y = 5\n",
        "print(x%y)\n",
        "print(type(x%y))"
      ]
    },
    {
      "cell_type": "code",
      "execution_count": null,
      "metadata": {
        "id": "FwNr0nF4jEmM",
        "outputId": "39057cc8-dc5b-4dc4-dbbc-9dfc872c278d"
      },
      "outputs": [
        {
          "name": "stdout",
          "output_type": "stream",
          "text": [
            "13.0\n"
          ]
        }
      ],
      "source": [
        "print(4 * 3 + 2 / 2)\n",
        "# BODMAS"
      ]
    },
    {
      "cell_type": "code",
      "execution_count": null,
      "metadata": {
        "id": "MFDG4pvijEmM",
        "outputId": "3ce8b9ac-e617-4838-f7c5-0e34680e1423"
      },
      "outputs": [
        {
          "name": "stdout",
          "output_type": "stream",
          "text": [
            "mulitiline comment\n",
            "mulitiline \n",
            "comment1\n"
          ]
        }
      ],
      "source": [
        "#print('comment')\n",
        "a = \"\"\"mulitiline comment\"\"\"\n",
        "b = \"\"\"mulitiline\n",
        "comment1\"\"\"\n",
        "print(a)\n",
        "print(b)"
      ]
    },
    {
      "cell_type": "markdown",
      "metadata": {
        "id": "uB5DrR9ujEmN"
      },
      "source": [
        "# **Operator Precedence**\n",
        "\n",
        "\n",
        "paranthesis ()\n",
        "\n",
        "exponentiation **\n",
        "\n",
        "multiplication * / division / / f.d// / modulus%\n",
        "\n",
        "addition, subtraction +,-"
      ]
    },
    {
      "cell_type": "code",
      "execution_count": null,
      "metadata": {
        "id": "4tyM9HawjEmN"
      },
      "outputs": [],
      "source": [
        "print(12 + 5 * (4 - 2))\n"
      ]
    },
    {
      "cell_type": "markdown",
      "metadata": {
        "id": "XtonmwLYjEmN"
      },
      "source": [
        "# **Assignment Operators**\n",
        "\n",
        "Assignment operators are used to assign values to variables"
      ]
    },
    {
      "cell_type": "code",
      "execution_count": null,
      "metadata": {
        "id": "ctVnH7YsjEmO",
        "outputId": "8db59eea-e017-4b45-cb81-cd59f3e88d04"
      },
      "outputs": [
        {
          "name": "stdout",
          "output_type": "stream",
          "text": [
            "343\n"
          ]
        }
      ],
      "source": [
        "x = 7\n",
        "#x += 2    # x = x+2\n",
        "#x -= 3      # x = x - 3\n",
        "#x *= x       # x = 5*5\n",
        "#x /= 3        # x = x/3\n",
        "#x %= 3\n",
        "#x //= 3\n",
        "x **= 3 # Same as x = x ** 3\n",
        "print(x)"
      ]
    },
    {
      "cell_type": "code",
      "execution_count": null,
      "metadata": {
        "id": "bR5PlkfJjEmP"
      },
      "outputs": [],
      "source": [
        "x = 2\n",
        "x **= 5\n",
        "x = x**5\n",
        "print(x)"
      ]
    },
    {
      "cell_type": "markdown",
      "metadata": {
        "id": "GArc6Jd_jEmQ"
      },
      "source": [
        "#**Comparison Operators**\n",
        "\n",
        "\n",
        "These are used to compare two variables with each other.\n",
        "\n",
        "\">\"  is greater than\n",
        "\n",
        "\"<\"  is smaller than\n",
        "\n",
        "\">=\"  is greater than or equal to\n",
        "\n",
        "\"<=\"  is smaller than or equal to\n",
        "\n",
        "\"==\"  is equal to\n",
        "\n",
        "\"!=\" is not equal to"
      ]
    },
    {
      "cell_type": "code",
      "execution_count": null,
      "metadata": {
        "id": "gL--63rfjEmQ",
        "outputId": "661c2e3a-665e-4c13-c56e-1248984957a5"
      },
      "outputs": [
        {
          "name": "stdout",
          "output_type": "stream",
          "text": [
            "True\n"
          ]
        }
      ],
      "source": [
        "print(5!=7)"
      ]
    },
    {
      "cell_type": "code",
      "execution_count": null,
      "metadata": {
        "id": "aLjQ3YK6jEmQ",
        "outputId": "c44f3756-d422-4fb9-fcf7-bed5366d6a4b"
      },
      "outputs": [
        {
          "name": "stdout",
          "output_type": "stream",
          "text": [
            "True\n",
            "False\n",
            "True\n",
            "False\n"
          ]
        }
      ],
      "source": [
        "a = 7\n",
        "b = 10\n",
        "print(a!=b)\n",
        "print(a==b)\n",
        "print(a<b)\n",
        "print(a>b)\n"
      ]
    },
    {
      "cell_type": "markdown",
      "metadata": {
        "id": "q7VvrOZ0jEmR"
      },
      "source": [
        "# **Logical Operators**\n",
        "\n",
        "Python has three Boolean operators, or logical operators: and , or , and not.\n",
        "\n",
        "Logical operators are used to combine conditional statements\n",
        "\n",
        "  \n",
        "\n",
        "`and` \t      Returns \"True\" if both statements are true\n",
        "`or`\t        Returns \"True\" if one of the statements is true\n",
        "`not`\t        Reverse the result, returns \"False\" if the result is true\n"
      ]
    },
    {
      "cell_type": "code",
      "execution_count": null,
      "metadata": {
        "id": "zQ9TKbffjEmR"
      },
      "outputs": [],
      "source": [
        "x = 9\n",
        "print(x < 11 and not   x < 9)\n",
        "print(x < 5 or not x < 10)"
      ]
    },
    {
      "cell_type": "code",
      "execution_count": null,
      "metadata": {
        "id": "Wu7R8OaVjEmR"
      },
      "outputs": [],
      "source": [
        "x = 9\n",
        "print(not x>10)"
      ]
    },
    {
      "cell_type": "code",
      "execution_count": null,
      "metadata": {
        "id": "N15Vo9kgjEmR"
      },
      "outputs": [],
      "source": [
        "a = 80\n",
        "b = 70\n",
        "print(a==b or a>b)"
      ]
    },
    {
      "cell_type": "markdown",
      "metadata": {
        "id": "KvMrd61hjEmR"
      },
      "source": [
        "# **Membership Operators**\n",
        "\n",
        "Membership operators are used to test if a sequence is presented in an object\n",
        "\n",
        "`in` Returns \"True\" if a sequence with the specified value is present in the object\n",
        "\n",
        "`not in` Returns \"True\" if a sequence with the specified value is not present in the object"
      ]
    },
    {
      "cell_type": "code",
      "execution_count": null,
      "metadata": {
        "id": "QT8HJgS6jEmR",
        "outputId": "05e224f1-e94c-4022-9c2a-83cace2b85bd"
      },
      "outputs": [
        {
          "name": "stdout",
          "output_type": "stream",
          "text": [
            "True\n",
            "False\n",
            "False\n"
          ]
        }
      ],
      "source": [
        "var1 = \"Python for Beginners\"\n",
        "print(\"y\" in var1)\n",
        "var2 = [\"orange\", 5, \"3.5\"]\n",
        "print(\"orange\" not in var2)\n",
        "\n",
        "print(\"O\" in \"iCodeGuru\")"
      ]
    },
    {
      "cell_type": "code",
      "execution_count": null,
      "metadata": {
        "id": "XA8gqLAujEmS",
        "outputId": "0af2cd06-700a-46d5-9da8-4eeecdbc29da"
      },
      "outputs": [
        {
          "name": "stdout",
          "output_type": "stream",
          "text": [
            "False\n",
            "True\n"
          ]
        }
      ],
      "source": [
        "x = \"How to use membership operator\"\n",
        "print(\"on\"  in x)\n",
        "\n",
        "print(\"Yes\" not in \"Python\")"
      ]
    },
    {
      "cell_type": "code",
      "execution_count": null,
      "metadata": {
        "id": "fcy1lnCJjEmS",
        "outputId": "d82ff085-1e66-4c6a-cc15-182be007c562"
      },
      "outputs": [
        {
          "name": "stdout",
          "output_type": "stream",
          "text": [
            "True\n"
          ]
        }
      ],
      "source": [
        "var1 = \"Python for Beginners\"\n",
        "print(\"python\" not in var1)"
      ]
    },
    {
      "cell_type": "markdown",
      "metadata": {
        "id": "x_mpN1SbjEmS"
      },
      "source": [
        "# **Identity Operators**\n",
        "\n",
        "Identity operators are used to compare the objects, not if they are equal, but if they are actually the same object, with the same memory location.\n",
        "\n",
        "`is` Returns True if both variables are the same object\n",
        "\n",
        "`is not` Returns True if both variables are not the same object"
      ]
    },
    {
      "cell_type": "code",
      "execution_count": null,
      "metadata": {
        "id": "Yoza19uxjEmS",
        "outputId": "40734599-e794-49c2-ba2f-d3366d153d3e"
      },
      "outputs": [
        {
          "name": "stdout",
          "output_type": "stream",
          "text": [
            "True\n",
            "False\n",
            "True\n",
            "False\n",
            "False\n",
            "True\n",
            "False\n",
            "True\n",
            "4607095856\n",
            "4608707120\n"
          ]
        }
      ],
      "source": [
        "a = 10.1\n",
        "b = 10.1\n",
        "\n",
        "print(a is a) # True\n",
        "print(a is not a) # False\n",
        "print(b is b) # True\n",
        "print(b is not b) # False\n",
        "print(a is b) #False\n",
        "print(a is not b) #True\n",
        "print(b is a) # False\n",
        "print(b is not a) # True\n",
        "\n",
        "print(id(a))\n",
        "print(id(b))"
      ]
    },
    {
      "cell_type": "code",
      "execution_count": null,
      "metadata": {
        "id": "SwKDxHJnjEmT",
        "outputId": "61604df6-8824-4570-c631-a00f295f2432"
      },
      "outputs": [
        {
          "name": "stdout",
          "output_type": "stream",
          "text": [
            "False\n",
            "4558306216\n",
            "4563609200\n"
          ]
        }
      ],
      "source": [
        "a = 10\n",
        "b = \"10\"\n",
        "# a = 11\n",
        "print(a is b)\n",
        "print(id(a))\n",
        "print(id(b))"
      ]
    },
    {
      "cell_type": "markdown",
      "metadata": {
        "id": "EDsIPxzujEmT"
      },
      "source": [
        "# **Python Strings**\n",
        "\n",
        "Strings in python are surrounded by either single quotation marks, or double quotation marks.\n",
        "\n",
        "You can display a string literal with the `print()` function"
      ]
    },
    {
      "cell_type": "code",
      "execution_count": null,
      "metadata": {
        "id": "zZk1ci5FjEmT",
        "outputId": "910bfb92-e5b2-4555-a978-9a0b48f6a119"
      },
      "outputs": [
        {
          "name": "stdout",
          "output_type": "stream",
          "text": [
            "Python \n",
            "Programming\n",
            "Python  Programming\n"
          ]
        }
      ],
      "source": [
        "x = \"Python \"\n",
        "print(x)\n",
        "y = 'Programming'\n",
        "print(y)\n",
        "print(x,y)\n"
      ]
    },
    {
      "cell_type": "markdown",
      "metadata": {
        "id": "5NeT_d5xjEmT"
      },
      "source": [
        "# **Multiline Strings**\n",
        "\n",
        "\n",
        "You can assign a multiline string to a variable by using three quotes or three single quotes:\n",
        "\n",
        "The line breaks are inserted at the same position as in the code.\n",
        "\n"
      ]
    },
    {
      "cell_type": "code",
      "execution_count": null,
      "metadata": {
        "id": "HOO8tbL2jEmT",
        "outputId": "36b1ef33-b99b-4c60-adb2-b4a76f6bacb5"
      },
      "outputs": [
        {
          "name": "stdout",
          "output_type": "stream",
          "text": [
            "Hello there I'm learning \"python\"\n",
            "\n",
            " programming language!\n",
            "Now, we are learning about multiline string\n"
          ]
        }
      ],
      "source": [
        "message1 = \"\"\"Hello there I'm learning \"python\"\n",
        "\n",
        " programming language!\"\"\"\n",
        "print(message1)\n",
        "message2 = \"Now, we are learning about multiline string\"\n",
        "print(message2)"
      ]
    },
    {
      "cell_type": "code",
      "execution_count": null,
      "metadata": {
        "id": "70sI_0t2jEmU",
        "outputId": "865efb29-9682-471a-e9e9-88e9ac085526"
      },
      "outputs": [
        {
          "name": "stdout",
          "output_type": "stream",
          "text": [
            "multiline\n",
            "comment\n"
          ]
        }
      ],
      "source": [
        "a = \"\"\"multiline\n",
        "comment\"\"\"\n",
        "print(a)"
      ]
    },
    {
      "cell_type": "markdown",
      "metadata": {
        "id": "zUuVbxNpjEmU"
      },
      "source": [
        "# **String Concatenation**\n",
        "To concatenate, or combine, two strings you can use the \"+\" operator."
      ]
    },
    {
      "cell_type": "code",
      "execution_count": null,
      "metadata": {
        "id": "_oKKz0wxjEmU",
        "outputId": "feecf3dd-4d12-4e01-b7fd-8cddd4a81a1a"
      },
      "outputs": [
        {
          "name": "stdout",
          "output_type": "stream",
          "text": [
            "iCodeGurupython\n",
            "iCode Guru python\n"
          ]
        }
      ],
      "source": [
        "x = \"iCode\"\n",
        "y = \"Guru\"\n",
        "z = \"python\"\n",
        "print(x + y + z)\n",
        "\n",
        "# Both have same working.....\n",
        "print(x + \" \" + y + \" \" + z)\n"
      ]
    },
    {
      "cell_type": "code",
      "execution_count": null,
      "metadata": {
        "id": "AlljGPPMjEmU",
        "outputId": "d4884e5a-2aeb-4b61-bd80-2b30ed5a8233"
      },
      "outputs": [
        {
          "name": "stdout",
          "output_type": "stream",
          "text": [
            "this\n",
            "will show error\n"
          ]
        }
      ],
      "source": [
        "a = '''this\n",
        "will show error'''\n",
        "print(a)"
      ]
    },
    {
      "cell_type": "markdown",
      "metadata": {
        "id": "RDuP2zTgjEmU"
      },
      "source": [
        "# **Strings are Arrays:**\n",
        "\n",
        "Like many other popular programming languages, strings in Python are arrays of bytes representing unicode characters.\n",
        "\n",
        "However, Python does not have a character data type, a single character is simply a string with a length of 1.\n",
        "\n",
        "Square brackets can be used to access elements of the string."
      ]
    },
    {
      "cell_type": "code",
      "execution_count": null,
      "metadata": {
        "id": "VXnfBvmqjEmV",
        "outputId": "54c7f460-5bd0-4990-8376-64331aa41657"
      },
      "outputs": [
        {
          "name": "stdout",
          "output_type": "stream",
          "text": [
            "l\n",
            "m\n",
            "35\n",
            "14\n"
          ]
        }
      ],
      "source": [
        "x = \"Hello   in the world of programming\"\n",
        "y = \"Hello    World\" #one tab space is one unit length\n",
        "\n",
        "print(x[2])\n",
        "print(x[-4])\n",
        "print(len(x))\n",
        "print(len(y))\n"
      ]
    },
    {
      "cell_type": "code",
      "execution_count": null,
      "metadata": {
        "id": "hZiF2XdEjEmV",
        "outputId": "b8743350-c423-4793-ac00-5a8795809420"
      },
      "outputs": [
        {
          "name": "stdout",
          "output_type": "stream",
          "text": [
            "o\n",
            "H\n",
            "4609284336\n",
            "4558367960\n",
            "4558369352\n",
            "t\n"
          ]
        }
      ],
      "source": [
        "x = \"Hello\"\n",
        "print(x[4])\n",
        "print(x[0])\n",
        "print(id(x))\n",
        "\n",
        "print(id(x[0]))\n",
        "print(id(x[1]))\n",
        "message = \"\"\"Hello there, I am learning\n",
        "python programming language!\"\"\"\n",
        "print(message[6])"
      ]
    },
    {
      "cell_type": "code",
      "execution_count": null,
      "metadata": {
        "id": "ZJ44boD3jEmV",
        "outputId": "a25ef72d-08b6-4b6a-882a-a3145653c131"
      },
      "outputs": [
        {
          "name": "stdout",
          "output_type": "stream",
          "text": [
            "4590371248\n",
            "4558367816\n"
          ]
        }
      ],
      "source": [
        "x = \"Enter\"\n",
        "print(id(x))\n",
        "print(id(x[0]))"
      ]
    },
    {
      "cell_type": "code",
      "execution_count": null,
      "metadata": {
        "id": "iKZv3A_OjEmV",
        "outputId": "645f5c7d-c75f-4c65-e63d-cf02ef919541"
      },
      "outputs": [
        {
          "name": "stdout",
          "output_type": "stream",
          "text": [
            "Pakistan Pakistan Pakistan Pakistan Pakistan \n"
          ]
        }
      ],
      "source": [
        "x = \"Pakistan \"\n",
        "print(x*5)"
      ]
    },
    {
      "cell_type": "code",
      "execution_count": null,
      "metadata": {
        "id": "OuonIj-3jEmW",
        "outputId": "6035d36c-52c5-4ad2-e597-ee8ac5d53931"
      },
      "outputs": [
        {
          "name": "stdout",
          "output_type": "stream",
          "text": [
            "4609284336\n",
            "4558369688\n"
          ]
        }
      ],
      "source": [
        "x = \"Hello\"\n",
        "print(id(x))\n",
        "print(id(x[3]))"
      ]
    },
    {
      "cell_type": "code",
      "execution_count": null,
      "metadata": {
        "id": "28MaooeMjEmW",
        "outputId": "7d809087-263d-43df-a4fd-7477e159efdf"
      },
      "outputs": [
        {
          "name": "stdout",
          "output_type": "stream",
          "text": [
            "[66, 3, 4, 66]\n"
          ]
        }
      ],
      "source": [
        "list1 = [2, 3, 4, 66]\n",
        "list1[0] = list1[3] #[66, 3, 4, 2]\n",
        "print(list1)"
      ]
    },
    {
      "cell_type": "markdown",
      "metadata": {
        "id": "SlksPGrYjEmW"
      },
      "source": [
        "# **String Length**\n",
        "\n",
        "\n",
        "To get the length of a string, use the len() function."
      ]
    },
    {
      "cell_type": "code",
      "execution_count": null,
      "metadata": {
        "id": "tFm-5WuojEmW"
      },
      "outputs": [],
      "source": [
        "string = \"Python    Programming Language\"\n",
        "print(string[2])\n",
        "print(len(string))\n"
      ]
    },
    {
      "cell_type": "markdown",
      "metadata": {
        "id": "q5NcmS__jEmW"
      },
      "source": [
        "# **String Index:**\n",
        "\n",
        "We can use index() method to find the index of a specific character or substring in a string."
      ]
    },
    {
      "cell_type": "code",
      "execution_count": null,
      "metadata": {
        "id": "CGLNbOdfjEmX",
        "outputId": "9afcbbf1-74ff-4c09-c060-b1cd099fc183"
      },
      "outputs": [
        {
          "name": "stdout",
          "output_type": "stream",
          "text": [
            "5\n",
            "1\n"
          ]
        }
      ],
      "source": [
        "string = \"Python Programming\"\n",
        "print(string.index(\"n\"))\n",
        "index = string.index(\"y\")\n",
        "print(index)"
      ]
    },
    {
      "cell_type": "code",
      "execution_count": null,
      "metadata": {
        "id": "FQB1FNexjEmX",
        "outputId": "635e2ecc-c114-462b-9ef5-d86bbe547ec1"
      },
      "outputs": [
        {
          "name": "stdout",
          "output_type": "stream",
          "text": [
            "Indices of occurrences: [13, 14]\n"
          ]
        }
      ],
      "source": [
        "string = \"Python Programming\"\n",
        "char = \"m\"\n",
        "\n",
        "# Find all indices of the character if it appears more than once\n",
        "indices = [i for i, c in enumerate(string) if c == char]\n",
        "\n",
        "# Check if the character appears more than once\n",
        "if len(indices) > 1:\n",
        "    print(\"Indices of occurrences:\", indices)\n",
        "else:\n",
        "    print(f\"The character '{char}' does not appear more than once.\")\n"
      ]
    },
    {
      "cell_type": "markdown",
      "metadata": {
        "id": "MwZdYl3djEmX"
      },
      "source": [
        "# **Looping Through a String:**\n",
        "\n",
        "Since strings are arrays, we can loop through the characters in a string, with a for loop."
      ]
    },
    {
      "cell_type": "code",
      "execution_count": null,
      "metadata": {
        "id": "W7Lj6whWjEmX",
        "outputId": "b481f798-2a51-43e2-aedb-ea1a1d0ea23f"
      },
      "outputs": [
        {
          "name": "stdout",
          "output_type": "stream",
          "text": [
            "h\n",
            "e\n",
            "l\n",
            "l\n",
            "o\n",
            "+\n"
          ]
        }
      ],
      "source": [
        "for x in \"hello+\":\n",
        " print(x)"
      ]
    },
    {
      "cell_type": "code",
      "execution_count": null,
      "metadata": {
        "id": "aRwAmbOXjEmX",
        "outputId": "85690811-f440-4532-c7ae-98353e88ae1c"
      },
      "outputs": [
        {
          "name": "stdout",
          "output_type": "stream",
          "text": [
            "2\n",
            "2\n",
            "2\n",
            "2\n",
            "2\n",
            "2\n"
          ]
        }
      ],
      "source": [
        "\n",
        "for x in \"python\":\n",
        "   print(\"2\")"
      ]
    },
    {
      "cell_type": "markdown",
      "metadata": {
        "id": "bQckymcujEmY"
      },
      "source": [
        "# **Slicing**\n",
        "You can return a range of characters by using the slice syntax.\n",
        "\n",
        "Specify the start index and the end index, separated by a colon, to return a part of the string.\n",
        "There are three values separated by a colon(:) that can be used in slicing. And all of them are optional.\n",
        "\n",
        "Syntax= string[start:end:step]"
      ]
    },
    {
      "cell_type": "code",
      "execution_count": null,
      "metadata": {
        "id": "KxGF-8G3jEmY",
        "outputId": "9e9a2f8e-7acc-4b06-fd7b-4035ea21a53a"
      },
      "outputs": [
        {
          "name": "stdout",
          "output_type": "stream",
          "text": [
            "BD\n"
          ]
        }
      ],
      "source": [
        "x = \"ABCDEFIGH\"\n",
        "print(x[1:4:2])"
      ]
    },
    {
      "cell_type": "code",
      "execution_count": null,
      "metadata": {
        "id": "X6Yeo21mjEmY",
        "outputId": "41247228-47c0-4895-ea51-369f5aa291eb"
      },
      "outputs": [
        {
          "name": "stdout",
          "output_type": "stream",
          "text": [
            "Hello\n",
            "ll\n"
          ]
        }
      ],
      "source": [
        "x = \"Hello\"\n",
        "print(x[:])\n",
        "print(x[2:-1:1])"
      ]
    },
    {
      "cell_type": "code",
      "execution_count": null,
      "metadata": {
        "id": "t3y2E0sGjEmY",
        "outputId": "264c5afb-103d-4133-8b94-e0da9ff1f579"
      },
      "outputs": [
        {
          "name": "stdout",
          "output_type": "stream",
          "text": [
            "dlroW olleH\n"
          ]
        }
      ],
      "source": [
        "x = \"Hello World\"\n",
        "print(x[::-1])"
      ]
    },
    {
      "cell_type": "markdown",
      "metadata": {
        "id": "DccfmGZ1jEmY"
      },
      "source": [
        "x[::-1]:\n",
        "\n",
        "- **start = 0**: Start from the beginning of the string.\n",
        "- **stop = None**: Go until the end of the string.\n",
        "- **step = -1**: Move backward through the string (reverses the order).\n",
        "\n",
        "Breaking it down:\n",
        "\n",
        "- Start at the beginning (0).\n",
        "- Go until the end (None).\n",
        "- Step backwards (-1): This causes the string to be reversed.\n"
      ]
    },
    {
      "cell_type": "code",
      "execution_count": null,
      "metadata": {
        "id": "gndkW6eOjEmZ",
        "outputId": "494c8f33-db23-47bb-f348-74210f91f6ed"
      },
      "outputs": [
        {
          "name": "stdout",
          "output_type": "stream",
          "text": [
            "37\n",
            "2\n",
            " \n",
            "r\n",
            "ael\n",
            "Wa ai o rgli\n",
            "learning about string slicing.\n"
          ]
        }
      ],
      "source": [
        "string = \"We are learning about string slicing.\"\n",
        "print(len(string))\n",
        "print(string.index(\" \"))\n",
        "print(string[2])\n",
        "print(string[4])\n",
        "print(string[3:9:2])\n",
        "print(string[:36:3])\n",
        "print(string[7::])"
      ]
    },
    {
      "cell_type": "markdown",
      "metadata": {
        "id": "2eIi0ImNjEmZ"
      },
      "source": [
        "# Negative Indexing\n",
        "Use negative indexes to start the slice from the end of the string:"
      ]
    },
    {
      "cell_type": "code",
      "execution_count": null,
      "metadata": {
        "id": "fnNNl3g7jEmZ",
        "outputId": "911af5aa-67f8-4de7-a8fa-793f372de32f"
      },
      "outputs": [
        {
          "name": "stdout",
          "output_type": "stream",
          "text": [
            "o\n",
            "Hell\n",
            "l\n",
            "olleH\n"
          ]
        }
      ],
      "source": [
        "x = \"Hello\"\n",
        "\n",
        "print(x[-1])\n",
        "print(x[:-1:])\n",
        "print(x[-2:-1])\n",
        "print(x[::-1])"
      ]
    },
    {
      "cell_type": "markdown",
      "source": [
        "# **String Methods:**\n",
        "Python has a set of built-in methods that you can use on strings.\n",
        "\n",
        "**Upper Case**\n",
        "\n",
        "The upper() method returns the string in upper case:\n",
        "\n",
        "**Lower Case**\n",
        "\n",
        "The lower() method returns the string in lower case:\n",
        "\n",
        "**Capitalize**\n",
        "\n",
        "The capitalize() method returns the string with first character capitalized:\n",
        "\n",
        "\n",
        "**Sorted**\n",
        "\n",
        "The sorted function is used to sort the string alphabatically.\n",
        "\n",
        "**Join**\n",
        "\n",
        "join() is used to join characters of a list in the form of string separated by the specified character.\n",
        "\n",
        "**Count**\n",
        "\n",
        "The count method is used to count the occurences of a specific character or substring in a string.\n",
        "\n",
        "**endswith**\n",
        "\n",
        "It checks whether a string ends with a specified character.\n",
        "\n",
        "**startswith**\n",
        "\n",
        "It checks whether a string starts with a specified character.\n",
        "\n",
        "**endswith**\n",
        "\n",
        "It checks whether a string ends with a specified character.\n",
        "\n",
        "**find**\n",
        "\n",
        "It checks at what position a specified character is present."
      ],
      "metadata": {
        "id": "yjx6HU8azJBH"
      }
    },
    {
      "cell_type": "code",
      "execution_count": null,
      "metadata": {
        "id": "5Fsdg6YrjEmZ",
        "colab": {
          "base_uri": "https://localhost:8080/"
        },
        "outputId": "9e897059-4e21-4707-f6fd-a339f193ccbb"
      },
      "outputs": [
        {
          "output_type": "stream",
          "name": "stdout",
          "text": [
            "HUSNAIN\n",
            "husnain\n",
            "Husnain\n",
            "['A', 'N', 'S', 'U', 'h', 'i', 'n']\n"
          ]
        }
      ],
      "source": [
        "name=\"hUSnAiN\"\n",
        "print(name.upper())\n",
        "print(name.lower())\n",
        "print(name.capitalize())\n",
        "print(sorted(name))"
      ]
    },
    {
      "cell_type": "code",
      "execution_count": null,
      "metadata": {
        "id": "PUkRDQlhjEmZ",
        "colab": {
          "base_uri": "https://localhost:8080/"
        },
        "outputId": "540535c2-337d-4c37-c0ab-ffa735231443"
      },
      "outputs": [
        {
          "output_type": "stream",
          "name": "stdout",
          "text": [
            "p/y/t/h/o/n\n"
          ]
        }
      ],
      "source": [
        "string=\"python\"\n",
        "x=\"/\".join(string)\n",
        "print(x)"
      ]
    },
    {
      "cell_type": "code",
      "source": [
        "print(\" \".join(string))\n"
      ],
      "metadata": {
        "colab": {
          "base_uri": "https://localhost:8080/"
        },
        "id": "bEwl_hXcz3IH",
        "outputId": "e99d97f7-60a0-4599-e3ff-a12a8d655ef3"
      },
      "execution_count": null,
      "outputs": [
        {
          "output_type": "stream",
          "name": "stdout",
          "text": [
            "p y t h o n\n"
          ]
        }
      ]
    },
    {
      "cell_type": "code",
      "execution_count": null,
      "metadata": {
        "id": "s4n4myzcjEma",
        "colab": {
          "base_uri": "https://localhost:8080/"
        },
        "outputId": "4ac5a28c-53c6-49c1-fc3c-d345b4ec2516"
      },
      "outputs": [
        {
          "output_type": "stream",
          "name": "stdout",
          "text": [
            "h n o p t y\n"
          ]
        }
      ],
      "source": [
        "print(\" \".join(sorted(string)))\n"
      ]
    },
    {
      "cell_type": "code",
      "execution_count": null,
      "metadata": {
        "id": "Nwead1JMjEma",
        "colab": {
          "base_uri": "https://localhost:8080/"
        },
        "outputId": "27695f1f-54b7-4e82-d3b6-a8241986df68"
      },
      "outputs": [
        {
          "output_type": "stream",
          "name": "stdout",
          "text": [
            "[' ', ' ', '5', '6', '7', '?', 'W', 'a', 'e', 'h', 'o', 'o', 'r', 'u', 'y']\n"
          ]
        }
      ],
      "source": [
        "string1 = \"Who are you?567\"\n",
        "print(sorted(string1))"
      ]
    },
    {
      "cell_type": "code",
      "execution_count": null,
      "metadata": {
        "id": "AeEwMyMHjEma",
        "colab": {
          "base_uri": "https://localhost:8080/"
        },
        "outputId": "64020987-8f65-4986-b2e3-8c707b875f20"
      },
      "outputs": [
        {
          "output_type": "stream",
          "name": "stdout",
          "text": [
            "1\n"
          ]
        }
      ],
      "source": [
        "print(name.count(\"U\"))"
      ]
    },
    {
      "cell_type": "code",
      "execution_count": null,
      "metadata": {
        "id": "BXFhSxPxjEma",
        "colab": {
          "base_uri": "https://localhost:8080/"
        },
        "outputId": "fd20919e-e112-420c-a2db-d5177c3d3780"
      },
      "outputs": [
        {
          "output_type": "stream",
          "name": "stdout",
          "text": [
            "True\n",
            "False\n"
          ]
        }
      ],
      "source": [
        "print(name.endswith(\"N\"))\n",
        "print(name.startswith(\"n\"))"
      ]
    },
    {
      "cell_type": "code",
      "execution_count": null,
      "metadata": {
        "id": "YTGzEeuajEma",
        "colab": {
          "base_uri": "https://localhost:8080/"
        },
        "outputId": "12bbef18-f7ff-4136-ccfe-9e17886fb714"
      },
      "outputs": [
        {
          "output_type": "stream",
          "name": "stdout",
          "text": [
            "5\n"
          ]
        }
      ],
      "source": [
        "print(name.find(\"i\"))"
      ]
    },
    {
      "cell_type": "markdown",
      "source": [
        "**Escape Character:**\n",
        "\n",
        "To insert characters that are illegal in a string, use an escape character.\n",
        "\n",
        "An escape character is a backslash \\ followed by the character you want to insert.\n",
        "\n",
        "An example of an illegal character is a double quote inside a string that is surrounded by double quotes:"
      ],
      "metadata": {
        "id": "h_G0hZxq1Ga2"
      }
    },
    {
      "cell_type": "code",
      "execution_count": null,
      "metadata": {
        "id": "Ym-Nx1vZjEma",
        "colab": {
          "base_uri": "https://localhost:8080/"
        },
        "outputId": "4cb538b4-ea28-4320-e50d-2c26b2e4a7e3"
      },
      "outputs": [
        {
          "output_type": "stream",
          "name": "stdout",
          "text": [
            "My name is 'Muhammad Husnain'. I am student of computer \t science departement \n",
            " at University of Sargodha.\n"
          ]
        }
      ],
      "source": [
        "intro=\"My name is \\'Muhammad Husnain'. I am student of computer \\t science departement \\n at University of Sargodha.\"\n",
        "# /t will add 4 spaces, \\n will move content to next line\n",
        "print(intro)"
      ]
    },
    {
      "cell_type": "markdown",
      "source": [
        "Formatted String: (f-string)\n",
        "\n",
        "The format() method formats the specified value(s) and insert them inside the string's placeholder. The placeholder is defined using curly brackets: {}."
      ],
      "metadata": {
        "id": "uGJRFVCa1zgR"
      }
    },
    {
      "cell_type": "code",
      "execution_count": null,
      "metadata": {
        "id": "1Qq_2mItjEma",
        "colab": {
          "base_uri": "https://localhost:8080/"
        },
        "outputId": "b215077c-ef73-49bd-ed0b-98285be92b57"
      },
      "outputs": [
        {
          "output_type": "stream",
          "name": "stdout",
          "text": [
            "Name of student is Muhammad Husnain Feroz\n"
          ]
        }
      ],
      "source": [
        "name=\"Muhammad Husnain Feroz\"\n",
        "print(f\"Name of student is {name}\")"
      ]
    },
    {
      "cell_type": "code",
      "execution_count": null,
      "metadata": {
        "id": "Xvg8aNStjEma",
        "colab": {
          "base_uri": "https://localhost:8080/"
        },
        "outputId": "7e065b2e-31a5-464f-908c-d9e0daa2cd7a"
      },
      "outputs": [
        {
          "output_type": "stream",
          "name": "stdout",
          "text": [
            "I have no interest in driving.\n",
            "I have no interest in karate. Even it will be true say that I hate karate.\n"
          ]
        }
      ],
      "source": [
        "interest=\"I have no interest in {}.\"\n",
        "print(interest.format(\"driving\"))\n",
        "interest=\"I have no interest in {}. Even it will be true say that I hate {}.\"\n",
        "print(interest.format(\"karate\",\"karate\"))\n"
      ]
    },
    {
      "cell_type": "markdown",
      "source": [
        "# **Remove Whitespaces:**\n",
        "Whitespace is the space before and/or after the actual text, and very often you want to remove this space.\n",
        "\n",
        "The strip() method removes any whitespace from the beginning or the end:"
      ],
      "metadata": {
        "id": "aHHKSLZP2_XJ"
      }
    },
    {
      "cell_type": "code",
      "execution_count": null,
      "metadata": {
        "id": "YC9YOhQujEma",
        "colab": {
          "base_uri": "https://localhost:8080/"
        },
        "outputId": "433266b3-f9ea-4cf2-d7ad-29f1be340f7b"
      },
      "outputs": [
        {
          "output_type": "stream",
          "name": "stdout",
          "text": [
            "           Hello \n",
            "Hello\n"
          ]
        }
      ],
      "source": [
        "x = \"           Hello \"\n",
        "print(x)\n",
        "print(x.strip(\" \"))"
      ]
    },
    {
      "cell_type": "code",
      "execution_count": null,
      "metadata": {
        "id": "DRDypa8RjEma",
        "colab": {
          "base_uri": "https://localhost:8080/"
        },
        "outputId": "9cbc47bd-fc2f-43c2-a33a-2cd94d69c0cd"
      },
      "outputs": [
        {
          "output_type": "stream",
          "name": "stdout",
          "text": [
            "Hello World!\n",
            "llo World!\n",
            "o World!\n",
            "Hello \n"
          ]
        }
      ],
      "source": [
        "x = \"Hello World!\"\n",
        "print(x)\n",
        "print(x.strip(\"He\"))\n",
        "print(x.strip(\"Hell\"))\n",
        "print(x.strip(\"World!\"))"
      ]
    },
    {
      "cell_type": "markdown",
      "source": [
        "# **Replace String:**\n",
        "The replace() method replaces a string with another string:"
      ],
      "metadata": {
        "id": "eD0OFru93wPS"
      }
    },
    {
      "cell_type": "code",
      "execution_count": null,
      "metadata": {
        "id": "A2RYOEtVjEma",
        "colab": {
          "base_uri": "https://localhost:8080/"
        },
        "outputId": "ea11b8d3-11b6-4a66-f27d-3388c394d9ab"
      },
      "outputs": [
        {
          "output_type": "stream",
          "name": "stdout",
          "text": [
            "Muhammad Feroz\n"
          ]
        }
      ],
      "source": [
        "name=\"Muhammad Husnain\"\n",
        "print(name.replace(\"Husnain\",\"Feroz\"))"
      ]
    },
    {
      "cell_type": "code",
      "execution_count": null,
      "metadata": {
        "id": "J1iRZfaZjEmb",
        "colab": {
          "base_uri": "https://localhost:8080/"
        },
        "outputId": "0f9e786f-5d4b-450d-c4bb-84655c7c897d"
      },
      "outputs": [
        {
          "output_type": "stream",
          "name": "stdout",
          "text": [
            "Hi World!\n"
          ]
        }
      ],
      "source": [
        "greetings=\"Hello World!\"\n",
        "print(greetings.replace(\"Hello\",\"Hi\"))"
      ]
    },
    {
      "cell_type": "markdown",
      "source": [
        "# **Split String:**\n",
        "The split() method returns a list where the text between the specified separator becomes the list items."
      ],
      "metadata": {
        "id": "x8Cz4bmV4qVc"
      }
    },
    {
      "cell_type": "code",
      "execution_count": null,
      "metadata": {
        "id": "pXZKOmQFjEmb",
        "colab": {
          "base_uri": "https://localhost:8080/"
        },
        "outputId": "6ee00d10-4988-4a15-84a6-75d8bbf91f3a"
      },
      "outputs": [
        {
          "output_type": "stream",
          "name": "stdout",
          "text": [
            "['We', 'can', 'use', 'split', 'method', 'to', 'change', 'our', 'string', 'into', 'a', 'split', 'list.']\n",
            "['We can use ', ' method to change our string into a ', ' list.']\n",
            "['We c', 'n use split method to ch', 'nge our string into ', ' split list.']\n"
          ]
        }
      ],
      "source": [
        "message = \"We can use split method to change our string into a split list.\"\n",
        "print(message.split())\n",
        "# we can also specify separator\n",
        "print(message.split(\"split\"))\n",
        "print(message.split(\"a\"))"
      ]
    },
    {
      "cell_type": "markdown",
      "source": [
        "**Reverse of a string:**\n",
        "\n",
        "reversed() function is used to get the reverse of a specified string."
      ],
      "metadata": {
        "id": "h1A9UAtaGwjQ"
      }
    },
    {
      "cell_type": "code",
      "execution_count": null,
      "metadata": {
        "id": "a4tKDflWjEmb",
        "colab": {
          "base_uri": "https://localhost:8080/"
        },
        "outputId": "83ea93c2-bd43-43fd-dee9-9c0153bd51fc"
      },
      "outputs": [
        {
          "output_type": "stream",
          "name": "stdout",
          "text": [
            "<reversed object at 0x7aa7808874c0>\n",
            "niansuH\n"
          ]
        }
      ],
      "source": [
        "name=\"Husnain\"\n",
        "print(reversed(name))   #return type memory location\n",
        "print(\"\".join(reversed(name)))"
      ]
    },
    {
      "cell_type": "code",
      "execution_count": null,
      "metadata": {
        "id": "QJf186bLjEmb",
        "colab": {
          "base_uri": "https://localhost:8080/"
        },
        "outputId": "b664bbb5-45dd-4bab-f7fe-4e438076907d"
      },
      "outputs": [
        {
          "output_type": "stream",
          "name": "stdout",
          "text": [
            "41215\n"
          ]
        }
      ],
      "source": [
        "number=51214\n",
        "print(\"\".join(reversed(str(number))))"
      ]
    },
    {
      "cell_type": "code",
      "execution_count": null,
      "metadata": {
        "id": "upLL2VWojEmb",
        "colab": {
          "base_uri": "https://localhost:8080/"
        },
        "outputId": "443635b2-ebc7-4c77-b555-b388de7af77f"
      },
      "outputs": [
        {
          "output_type": "stream",
          "name": "stdout",
          "text": [
            "nohtyP\n"
          ]
        }
      ],
      "source": [
        "# we can use indexing for reversing the string\n",
        "x = 'Python'\n",
        "print(x[::-1])"
      ]
    },
    {
      "cell_type": "markdown",
      "source": [
        "# **String:**\n",
        "\n",
        "**Strings are not mutable in Python.** Strings are a immutable data types which means that its value cannot be updated."
      ],
      "metadata": {
        "id": "Z8rPiijDHWyd"
      }
    },
    {
      "cell_type": "code",
      "execution_count": null,
      "metadata": {
        "id": "Qnt_Dfj7jEmb",
        "colab": {
          "base_uri": "https://localhost:8080/",
          "height": 180
        },
        "outputId": "16e215b8-ddca-4bae-f7eb-16c96273ef29"
      },
      "outputs": [
        {
          "output_type": "error",
          "ename": "TypeError",
          "evalue": "'str' object does not support item assignment",
          "traceback": [
            "\u001b[0;31m---------------------------------------------------------------------------\u001b[0m",
            "\u001b[0;31mTypeError\u001b[0m                                 Traceback (most recent call last)",
            "\u001b[0;32m<ipython-input-13-a602799e81ac>\u001b[0m in \u001b[0;36m<cell line: 0>\u001b[0;34m()\u001b[0m\n\u001b[1;32m      1\u001b[0m \u001b[0mname\u001b[0m\u001b[0;34m=\u001b[0m\u001b[0;34m\"Husnain\"\u001b[0m\u001b[0;34m\u001b[0m\u001b[0;34m\u001b[0m\u001b[0m\n\u001b[0;32m----> 2\u001b[0;31m \u001b[0mname\u001b[0m\u001b[0;34m[\u001b[0m\u001b[0;36m0\u001b[0m\u001b[0;34m]\u001b[0m\u001b[0;34m=\u001b[0m\u001b[0;34m'h'\u001b[0m\u001b[0;34m\u001b[0m\u001b[0;34m\u001b[0m\u001b[0m\n\u001b[0m\u001b[1;32m      3\u001b[0m \u001b[0mprint\u001b[0m\u001b[0;34m(\u001b[0m\u001b[0mname\u001b[0m\u001b[0;34m)\u001b[0m\u001b[0;34m\u001b[0m\u001b[0;34m\u001b[0m\u001b[0m\n",
            "\u001b[0;31mTypeError\u001b[0m: 'str' object does not support item assignment"
          ]
        }
      ],
      "source": [
        "name=\"Husnain\"\n",
        "name[0]='h'\n",
        "print(name)"
      ]
    },
    {
      "cell_type": "markdown",
      "source": [
        "#**List**\n",
        "\n",
        "Lists are used to store multiple items in a single variable.\n",
        "\n",
        "List items are ordered, changable, allow duplicate values.\n",
        "\n",
        "List items can be of any data type."
      ],
      "metadata": {
        "id": "RCR8upZbHfdu"
      }
    },
    {
      "cell_type": "code",
      "execution_count": null,
      "metadata": {
        "id": "QjdH1IO6jEmb",
        "colab": {
          "base_uri": "https://localhost:8080/"
        },
        "outputId": "849c86a5-ca15-4460-9a9f-ca706b241171"
      },
      "outputs": [
        {
          "output_type": "stream",
          "name": "stdout",
          "text": [
            "[5, 12, 14, True, False, 5.12, 'list']\n",
            "<class 'list'>\n"
          ]
        }
      ],
      "source": [
        "List=[5,12,14,True,False,5.12,'list']\n",
        "print(List)\n",
        "print(type(List))"
      ]
    },
    {
      "cell_type": "markdown",
      "source": [
        "#**List Length**\n",
        "\n",
        "Use `len()` function to determine how many items a list has."
      ],
      "metadata": {
        "id": "9WRr6rALH3I1"
      }
    },
    {
      "cell_type": "code",
      "execution_count": null,
      "metadata": {
        "id": "wW4-q8NnjEmb",
        "colab": {
          "base_uri": "https://localhost:8080/"
        },
        "outputId": "d859fd1d-3249-49cb-b1fc-106c913c751b"
      },
      "outputs": [
        {
          "output_type": "stream",
          "name": "stdout",
          "text": [
            "7\n"
          ]
        }
      ],
      "source": [
        "print(len(List))"
      ]
    },
    {
      "cell_type": "markdown",
      "source": [
        "#**Access List Items**\n",
        "\n",
        "Since list items are indexed, they can be accessed by referring to their index number.\n",
        "\n",
        "We can also use negative indexing to refer to a list item.\n",
        "\n",
        "We can also specify a range to tell where to start and where to end. In that case, the output will be a new list having specified items.\n",
        "\n",
        "We can also specify negative indexes if we want to start the search from the end of the list\n"
      ],
      "metadata": {
        "id": "FRdR_zgtH_M7"
      }
    },
    {
      "cell_type": "code",
      "execution_count": null,
      "metadata": {
        "id": "OjLrcILLjEmb",
        "colab": {
          "base_uri": "https://localhost:8080/"
        },
        "outputId": "ae71e2f5-498e-4e51-ca4f-74b769e06a42"
      },
      "outputs": [
        {
          "output_type": "stream",
          "name": "stdout",
          "text": [
            "True\n",
            "list\n",
            "[5]\n",
            "[]\n"
          ]
        }
      ],
      "source": [
        "List=[5,12,14,True,False,5.12,'list']\n",
        "print(List[3])\n",
        "\n",
        "# using -ve index\n",
        "print(List[-1])\n",
        "\n",
        "#range of items\n",
        "print(List[0::-1])\n",
        "\n",
        "# #range of -ve indexes\n",
        "print(List[-2:-4:1])"
      ]
    },
    {
      "cell_type": "markdown",
      "source": [
        "#**Membership Operators in List**\n",
        "\n",
        "To check if the specified item is present in a list or not we can use membership operators i'e `in` and `not in`."
      ],
      "metadata": {
        "id": "FhGcAg-VJn0J"
      }
    },
    {
      "cell_type": "code",
      "source": [
        "list1 = [\"cool\", 5, \"table\", 4.3, True]\n",
        "print(5 in list1)\n",
        "print(5 not in list1)\n"
      ],
      "metadata": {
        "colab": {
          "base_uri": "https://localhost:8080/"
        },
        "id": "mo08_9OCJjgu",
        "outputId": "75238712-1da6-4ace-cfe1-a3ae4f169db8"
      },
      "execution_count": null,
      "outputs": [
        {
          "output_type": "stream",
          "name": "stdout",
          "text": [
            "True\n",
            "False\n"
          ]
        }
      ]
    },
    {
      "cell_type": "markdown",
      "source": [
        "#**Change List Items**\n",
        "\n",
        "To change the value of a specific item, refer to the index number.\n",
        "\n",
        "To change the value of items within a specific range, define a list with the new values, and refer to the range of index numbers where you want to insert the new values."
      ],
      "metadata": {
        "id": "JLHGi4_jJxzA"
      }
    },
    {
      "cell_type": "code",
      "source": [
        "list2 = [\"summer\", \"winter\", \"spring\", \"autumn\"]\n",
        "list2[1] = \"go!\"\n",
        "print(list2)\n",
        "\n",
        "list2[0:3] = [\"list\"]\n",
        "print(list2)"
      ],
      "metadata": {
        "colab": {
          "base_uri": "https://localhost:8080/"
        },
        "id": "-GNumCtEJi5b",
        "outputId": "e32ebb2c-c293-4cba-e6a5-961728434b3b"
      },
      "execution_count": null,
      "outputs": [
        {
          "output_type": "stream",
          "name": "stdout",
          "text": [
            "['summer', 'go!', 'spring', 'autumn']\n",
            "['list', 'autumn']\n"
          ]
        }
      ]
    },
    {
      "cell_type": "markdown",
      "source": [
        "#**Add List Items**\n",
        "\n",
        "We can add items in the list using:\n",
        "\n",
        "\n",
        "*   `append()` method\n",
        "*   `insert()` method\n",
        "*   `extend()` method"
      ],
      "metadata": {
        "id": "N4kI95PlLd2X"
      }
    },
    {
      "cell_type": "code",
      "source": [
        "list1 = [\"cool\", 5, \"table\", 4.3, True]\n",
        "list2 = [\"summer\", \"winter\", \"spring\", \"autumn\"]\n",
        "list3=['Husnain','Ali','Hassan','Hussain']\n",
        "list1.append('Fatima')\n",
        "list2.insert(2,'insertion_done')\n",
        "# To append elements from another list to the current list, use the extend() method.\n",
        "list3.extend(list2)\n",
        "\n",
        "print(list1)\n",
        "print(list2)\n",
        "print(list3)"
      ],
      "metadata": {
        "id": "JHHjfwdJJheT",
        "colab": {
          "base_uri": "https://localhost:8080/"
        },
        "outputId": "858a6197-a704-41b5-9093-63bc8280d3ff"
      },
      "execution_count": null,
      "outputs": [
        {
          "output_type": "stream",
          "name": "stdout",
          "text": [
            "['cool', 5, 'table', 4.3, True, 'Fatima']\n",
            "['summer', 'winter', 'insertion_done', 'spring', 'autumn']\n",
            "['Husnain', 'Ali', 'Hassan', 'Hussain', 'summer', 'winter', 'insertion_done', 'spring', 'autumn']\n"
          ]
        }
      ]
    },
    {
      "cell_type": "markdown",
      "source": [
        "#**Remove List Items**\n",
        "\n",
        "We can remove items from list using:\n",
        "\n",
        "* `remove()` method\\\n",
        "The remove() method removes the specified item\n",
        "\n",
        "\n",
        "* `pop()` method\\\n",
        "The pop() method removes the specified index.\n",
        "\n",
        "* `del` keyword\n",
        "\n",
        "* `clear()` method"
      ],
      "metadata": {
        "id": "iMU3rQcnOPwy"
      }
    },
    {
      "cell_type": "code",
      "source": [
        "list1 = [\"cool\", 5, \"table\", 4.3, True]\n",
        "list1.remove(4.3)\n",
        "list1.remove(True)\n",
        "print(list1)"
      ],
      "metadata": {
        "id": "7xJ57W48Jg2u",
        "colab": {
          "base_uri": "https://localhost:8080/"
        },
        "outputId": "32e026cf-ad64-45a2-a39e-419a543f0593"
      },
      "execution_count": null,
      "outputs": [
        {
          "output_type": "stream",
          "name": "stdout",
          "text": [
            "['cool', 5, 'table']\n"
          ]
        }
      ]
    },
    {
      "cell_type": "code",
      "source": [
        "list2 = [\"summer\", \"winter\", \"spring\", \"autumn\"]\n",
        "list2.pop(1)\n",
        "list2.pop() # if index is not define, then it will remove last element\n",
        "print(list2)\n"
      ],
      "metadata": {
        "id": "ynYF4kGoJgUT",
        "colab": {
          "base_uri": "https://localhost:8080/"
        },
        "outputId": "bcaa763c-0f41-41c4-8e9b-403a205967cf"
      },
      "execution_count": null,
      "outputs": [
        {
          "output_type": "stream",
          "name": "stdout",
          "text": [
            "['summer', 'spring']\n"
          ]
        }
      ]
    },
    {
      "cell_type": "code",
      "source": [
        "list3=['Husnain','Ali','Hassan','Hussain']\n",
        "del list3[2]\n",
        "print(list3)\n",
        "\n"
      ],
      "metadata": {
        "id": "HM8TxScUJfs0",
        "colab": {
          "base_uri": "https://localhost:8080/"
        },
        "outputId": "b1ab02ea-18fb-4aad-f295-69559252b66d"
      },
      "execution_count": null,
      "outputs": [
        {
          "output_type": "stream",
          "name": "stdout",
          "text": [
            "['Husnain', 'Ali', 'Hussain']\n"
          ]
        }
      ]
    },
    {
      "cell_type": "code",
      "source": [
        "\n",
        "del list2 # it deletes the complete list2\n",
        "print(list2)"
      ],
      "metadata": {
        "id": "wKVWdRlVJfQP",
        "colab": {
          "base_uri": "https://localhost:8080/",
          "height": 162
        },
        "outputId": "f09b3108-b839-4e02-edc9-34eb74bfbb79"
      },
      "execution_count": null,
      "outputs": [
        {
          "output_type": "error",
          "ename": "NameError",
          "evalue": "name 'list2' is not defined",
          "traceback": [
            "\u001b[0;31m---------------------------------------------------------------------------\u001b[0m",
            "\u001b[0;31mNameError\u001b[0m                                 Traceback (most recent call last)",
            "\u001b[0;32m<ipython-input-27-475d7c6f4693>\u001b[0m in \u001b[0;36m<cell line: 0>\u001b[0;34m()\u001b[0m\n\u001b[1;32m      1\u001b[0m \u001b[0;32mdel\u001b[0m \u001b[0mlist2\u001b[0m\u001b[0;34m\u001b[0m\u001b[0;34m\u001b[0m\u001b[0m\n\u001b[0;32m----> 2\u001b[0;31m \u001b[0mprint\u001b[0m\u001b[0;34m(\u001b[0m\u001b[0mlist2\u001b[0m\u001b[0;34m)\u001b[0m\u001b[0;34m\u001b[0m\u001b[0;34m\u001b[0m\u001b[0m\n\u001b[0m",
            "\u001b[0;31mNameError\u001b[0m: name 'list2' is not defined"
          ]
        }
      ]
    },
    {
      "cell_type": "markdown",
      "source": [
        "#**Sort List**\n",
        "\n",
        "List objects have a `sort()` method that will sort the list alphanumerically, ascending, by default.\n",
        "\n",
        "To sort descending, use the keyword argument `reverse = True`\n",
        "\n",
        "By default the `sort()` method is case sensitive, resulting in all capital letters being sorted before lower case letters.\n",
        "\n",
        "If you want a case-insensitive sort function, use str.lower as a key function.\n",
        "\n",
        "The `sort()` method of a Python list can only sort elements of the same type.\n",
        "\n",
        "\n",
        "\n",
        "\n",
        "\n",
        "\n",
        "\n"
      ],
      "metadata": {
        "id": "lYHQj5PnQAh_"
      }
    },
    {
      "cell_type": "code",
      "source": [
        "list1 = [\"cool\", 5, \"table\", 4.3, True]\n",
        "list1.sort()\n",
        "print(list1)\n"
      ],
      "metadata": {
        "id": "dDjSRRdjJe0D",
        "colab": {
          "base_uri": "https://localhost:8080/",
          "height": 180
        },
        "outputId": "abf66479-3b7c-419f-8324-f08e851022ed"
      },
      "execution_count": null,
      "outputs": [
        {
          "output_type": "error",
          "ename": "TypeError",
          "evalue": "'<' not supported between instances of 'int' and 'str'",
          "traceback": [
            "\u001b[0;31m---------------------------------------------------------------------------\u001b[0m",
            "\u001b[0;31mTypeError\u001b[0m                                 Traceback (most recent call last)",
            "\u001b[0;32m<ipython-input-29-63df398ba2bf>\u001b[0m in \u001b[0;36m<cell line: 0>\u001b[0;34m()\u001b[0m\n\u001b[1;32m      1\u001b[0m \u001b[0mlist1\u001b[0m \u001b[0;34m=\u001b[0m \u001b[0;34m[\u001b[0m\u001b[0;34m\"cool\"\u001b[0m\u001b[0;34m,\u001b[0m \u001b[0;36m5\u001b[0m\u001b[0;34m,\u001b[0m \u001b[0;34m\"table\"\u001b[0m\u001b[0;34m,\u001b[0m \u001b[0;36m4.3\u001b[0m\u001b[0;34m,\u001b[0m \u001b[0;32mTrue\u001b[0m\u001b[0;34m]\u001b[0m\u001b[0;34m\u001b[0m\u001b[0;34m\u001b[0m\u001b[0m\n\u001b[0;32m----> 2\u001b[0;31m \u001b[0mlist1\u001b[0m\u001b[0;34m.\u001b[0m\u001b[0msort\u001b[0m\u001b[0;34m(\u001b[0m\u001b[0;34m)\u001b[0m\u001b[0;34m\u001b[0m\u001b[0;34m\u001b[0m\u001b[0m\n\u001b[0m\u001b[1;32m      3\u001b[0m \u001b[0mprint\u001b[0m\u001b[0;34m(\u001b[0m\u001b[0mlist1\u001b[0m\u001b[0;34m)\u001b[0m\u001b[0;34m\u001b[0m\u001b[0;34m\u001b[0m\u001b[0m\n",
            "\u001b[0;31mTypeError\u001b[0m: '<' not supported between instances of 'int' and 'str'"
          ]
        }
      ]
    },
    {
      "cell_type": "code",
      "source": [
        "list2 = [\"summer\", \"winter\", \"spring\", \"autumn\"]\n",
        "list2.sort()\n",
        "print(list2)\n"
      ],
      "metadata": {
        "id": "3wTIj3OgJeWK",
        "colab": {
          "base_uri": "https://localhost:8080/"
        },
        "outputId": "7bc64b31-0069-4c38-b40c-1c355c9623af"
      },
      "execution_count": null,
      "outputs": [
        {
          "output_type": "stream",
          "name": "stdout",
          "text": [
            "['autumn', 'spring', 'summer', 'winter']\n"
          ]
        }
      ]
    },
    {
      "cell_type": "code",
      "source": [
        "list3=[1,5,3,5,0,9,5,1,9]\n",
        "list3.sort(reverse=True)\n",
        "print(list3)"
      ],
      "metadata": {
        "id": "iAubaxkTJd3W",
        "colab": {
          "base_uri": "https://localhost:8080/"
        },
        "outputId": "edba7f8e-7f29-4196-c42f-41b8a1734abd"
      },
      "execution_count": null,
      "outputs": [
        {
          "output_type": "stream",
          "name": "stdout",
          "text": [
            "[9, 9, 5, 5, 5, 3, 1, 1, 0]\n"
          ]
        }
      ]
    },
    {
      "cell_type": "code",
      "source": [
        "list4 = [\"apple\", \"8\", \"Winter\", \"6.0\"]\n",
        "list4.sort()\n",
        "print(list4)"
      ],
      "metadata": {
        "id": "FCjmmFk7JdXX",
        "colab": {
          "base_uri": "https://localhost:8080/"
        },
        "outputId": "f18b59e4-afaf-463a-ee58-b85681f28513"
      },
      "execution_count": null,
      "outputs": [
        {
          "output_type": "stream",
          "name": "stdout",
          "text": [
            "['6.0', '8', 'Winter', 'apple']\n"
          ]
        }
      ]
    },
    {
      "cell_type": "code",
      "source": [
        "\n",
        "list5 = [\"apple\", \"Banana\", \"orange\", \"Apricot\"]\n",
        "list5.sort(key = str.upper)\n",
        "print(list5)\n",
        "\n"
      ],
      "metadata": {
        "id": "0mVeNtyOJct-",
        "colab": {
          "base_uri": "https://localhost:8080/"
        },
        "outputId": "73fffbb5-ac8d-4daa-ba80-5743fa7009b4"
      },
      "execution_count": null,
      "outputs": [
        {
          "output_type": "stream",
          "name": "stdout",
          "text": [
            "['apple', 'Apricot', 'Banana', 'orange']\n"
          ]
        }
      ]
    },
    {
      "cell_type": "code",
      "source": [
        "list5.reverse()\n",
        "print(list5)"
      ],
      "metadata": {
        "id": "CX6GPhiqJcKW",
        "colab": {
          "base_uri": "https://localhost:8080/"
        },
        "outputId": "fc29da29-2352-408e-cd93-043307f6db3b"
      },
      "execution_count": null,
      "outputs": [
        {
          "output_type": "stream",
          "name": "stdout",
          "text": [
            "['orange', 'Banana', 'Apricot', 'apple']\n"
          ]
        }
      ]
    },
    {
      "cell_type": "code",
      "source": [
        "list2=['apple','Apricort','banana','Orange']\n",
        "list2.sort(key=str.lower)\n",
        "print(list2)"
      ],
      "metadata": {
        "id": "EUk8gInyJbtv",
        "colab": {
          "base_uri": "https://localhost:8080/"
        },
        "outputId": "452566f6-870d-4caa-96e2-263b8a9b4bd7"
      },
      "execution_count": null,
      "outputs": [
        {
          "output_type": "stream",
          "name": "stdout",
          "text": [
            "['apple', 'Apricort', 'banana', 'Orange']\n"
          ]
        }
      ]
    },
    {
      "cell_type": "code",
      "source": [
        "list2 = [\"summer\", \"winter\", \"Spring\", \"autumn\", \"7\", \"9\"]\n",
        "list2.sort(key=str.lower)\n",
        "print(list2)"
      ],
      "metadata": {
        "id": "8ot53WDWJbUz",
        "colab": {
          "base_uri": "https://localhost:8080/"
        },
        "outputId": "556dd4cc-f8c0-4a58-a866-ae1cab65ad08"
      },
      "execution_count": null,
      "outputs": [
        {
          "output_type": "stream",
          "name": "stdout",
          "text": [
            "['7', '9', 'autumn', 'Spring', 'summer', 'winter']\n"
          ]
        }
      ]
    },
    {
      "cell_type": "markdown",
      "source": [
        "#**Copy List**\n",
        "\n",
        "You cannot copy a list simply by typing `list2 = list1`, because: list2 will only be a reference to list1, and changes made in list1 will automatically also be made in list2.\n",
        "\n",
        "There are ways to make a copy, one way is to use the built-in List method `copy()`.\n",
        "\n",
        "Another way to make a copy is to use the built-in method `list()`."
      ],
      "metadata": {
        "id": "xVS8Fw2-S0NL"
      }
    },
    {
      "cell_type": "code",
      "source": [
        "list5 = [\"summer\", \"winter\", \"Spring\", \"autumn\", \"7\", \"9\"]\n",
        "list6=list5\n",
        "list6.append(\"12\")\n",
        "print(list5)"
      ],
      "metadata": {
        "id": "c4hnxd3-Ja3A",
        "colab": {
          "base_uri": "https://localhost:8080/"
        },
        "outputId": "aacc923d-07c6-481b-e984-f820e48dd626"
      },
      "execution_count": null,
      "outputs": [
        {
          "output_type": "stream",
          "name": "stdout",
          "text": [
            "['summer', 'winter', 'Spring', 'autumn', '7', '9', '12']\n"
          ]
        }
      ]
    },
    {
      "cell_type": "code",
      "source": [
        "list6=list5.copy()\n",
        "list6.append(\"14\")\n",
        "print(list6)\n",
        "print(list5)"
      ],
      "metadata": {
        "id": "XBTFMOc-JaXY",
        "colab": {
          "base_uri": "https://localhost:8080/"
        },
        "outputId": "ed6cf55c-7d28-49e8-b2e2-a63e59c8bbdc"
      },
      "execution_count": null,
      "outputs": [
        {
          "output_type": "stream",
          "name": "stdout",
          "text": [
            "['summer', 'winter', 'Spring', 'autumn', '7', '9', '12', '14']\n",
            "['summer', 'winter', 'Spring', 'autumn', '7', '9', '12']\n"
          ]
        }
      ]
    },
    {
      "cell_type": "markdown",
      "source": [
        "#**Join List**\n",
        "\n",
        "There are several ways to join, or concatenate, two or more lists in Python.\n",
        "\n",
        "One of the easiest ways are by using the `+` operator.\n",
        "\n",
        "Another way to join two lists is by appending all the items from list2 into list1, one by one\n",
        "\n",
        "Or you can use the `extend()` method, which purpose is to add elements from one list to another list"
      ],
      "metadata": {
        "id": "H7bzpsNwU0wU"
      }
    },
    {
      "cell_type": "code",
      "source": [
        "print(list1+list2)\n"
      ],
      "metadata": {
        "id": "wUhXgn9jJZxc",
        "colab": {
          "base_uri": "https://localhost:8080/"
        },
        "outputId": "77dde29f-630a-4a65-819e-ac74516c798e"
      },
      "execution_count": null,
      "outputs": [
        {
          "output_type": "stream",
          "name": "stdout",
          "text": [
            "['cool', 5, 'table', 4.3, True, 'summer', 'winter', 'Spring', 'autumn', '7', '9']\n"
          ]
        }
      ]
    },
    {
      "cell_type": "code",
      "source": [
        "list3.extend(list2)\n",
        "print(list3)"
      ],
      "metadata": {
        "id": "3vPNuccfJZWm",
        "colab": {
          "base_uri": "https://localhost:8080/"
        },
        "outputId": "cbb728ab-ad7f-4f1e-808e-5f7b26a4490d"
      },
      "execution_count": null,
      "outputs": [
        {
          "output_type": "stream",
          "name": "stdout",
          "text": [
            "[9, 9, 5, 5, 5, 3, 1, 1, 0, 'summer', 'winter', 'Spring', 'autumn', '7', '9', 'summer', 'winter', 'Spring', 'autumn', '7', '9', 'summer', 'winter', 'Spring', 'autumn', '7', '9']\n"
          ]
        }
      ]
    },
    {
      "cell_type": "code",
      "source": [
        "#appending each item using for loop\n",
        "for i in list4:\n",
        "  list5.append(i)\n",
        "print(list5)"
      ],
      "metadata": {
        "id": "Haj2kIvkJY90",
        "colab": {
          "base_uri": "https://localhost:8080/"
        },
        "outputId": "619e772d-dffd-48ee-fcb7-4c291fe9891a"
      },
      "execution_count": null,
      "outputs": [
        {
          "output_type": "stream",
          "name": "stdout",
          "text": [
            "['summer', 'winter', 'Spring', 'autumn', '7', '9', '12', '6.0', '8', 'Winter', 'apple']\n"
          ]
        }
      ]
    },
    {
      "cell_type": "code",
      "source": [
        "list1 = [\"cool\", 5, \"table\", 4.3, True]\n",
        "\n",
        "print(list1.count('table'))\n",
        "print(list1.index('table'))"
      ],
      "metadata": {
        "id": "MFXaI0m1JYkN",
        "colab": {
          "base_uri": "https://localhost:8080/"
        },
        "outputId": "a5f442c1-8ea2-4b81-c10a-902381641845"
      },
      "execution_count": null,
      "outputs": [
        {
          "output_type": "stream",
          "name": "stdout",
          "text": [
            "1\n",
            "2\n"
          ]
        }
      ]
    },
    {
      "cell_type": "code",
      "execution_count": null,
      "metadata": {
        "id": "kYWomy1tjEmb",
        "colab": {
          "base_uri": "https://localhost:8080/"
        },
        "outputId": "6e9ff74b-1c66-4bec-fcfb-d42a990ad80c"
      },
      "outputs": [
        {
          "output_type": "stream",
          "name": "stdout",
          "text": [
            "18\n",
            "P\n",
            "Pro\n"
          ]
        }
      ],
      "source": [
        "string1 = \"Python Programming\"\n",
        "print(len(string1))\n",
        "print(string1[-18])\n",
        "print(string1[-11:-8:1])"
      ]
    },
    {
      "cell_type": "code",
      "execution_count": null,
      "metadata": {
        "id": "njE-l6ndjEmb",
        "colab": {
          "base_uri": "https://localhost:8080/"
        },
        "outputId": "2499cdd8-1aaf-4b27-d903-922c2d65e718"
      },
      "outputs": [
        {
          "output_type": "stream",
          "name": "stdout",
          "text": [
            "35\n"
          ]
        }
      ],
      "source": [
        "# Question for today\n",
        "my_list = [12, 35, 5, 0, 87, 99]\n",
        "# Find the modulus of number at index 1 with 5.\n",
        "print(my_list[1] % my_list[5])"
      ]
    },
    {
      "cell_type": "code",
      "execution_count": null,
      "metadata": {
        "id": "srOzcD1LjEmc",
        "colab": {
          "base_uri": "https://localhost:8080/"
        },
        "outputId": "e96cbb2f-58b6-4687-f9ea-23f3f686079f"
      },
      "outputs": [
        {
          "output_type": "stream",
          "name": "stdout",
          "text": [
            "False\n"
          ]
        }
      ],
      "source": [
        "# Problem no. 2\n",
        "set1 = {\"Lahore\", \"Faisalabad\", 5, True}\n",
        "set2 = {5, 0, True}\n",
        "# find whether set2 is a subset of set1 or not.\n",
        "# Hint: use set method for this\n",
        "print(set2.issubset(set1))"
      ]
    },
    {
      "cell_type": "code",
      "source": [
        "string = \"\"\n",
        "print(type(string))"
      ],
      "metadata": {
        "colab": {
          "base_uri": "https://localhost:8080/"
        },
        "id": "EQsPvdCeV7Ja",
        "outputId": "778b03f6-6d26-4143-a4ba-905ee38a532f"
      },
      "execution_count": null,
      "outputs": [
        {
          "output_type": "stream",
          "name": "stdout",
          "text": [
            "<class 'str'>\n"
          ]
        }
      ]
    },
    {
      "cell_type": "markdown",
      "source": [
        "# **Nested List:**\n",
        "If there is a sublist within a list, it is known as nested list. We can access the elements of nested list by using its indexes."
      ],
      "metadata": {
        "id": "3IYtkmotUC6r"
      }
    },
    {
      "cell_type": "code",
      "source": [
        "list1=[1,2,3,[4,5,6,7],8,9]\n",
        "print(list1)\n",
        "print(list1[3])\n",
        "print(list1[3][2])"
      ],
      "metadata": {
        "id": "ntK5DdKmV9pY",
        "colab": {
          "base_uri": "https://localhost:8080/"
        },
        "outputId": "b02e6098-2806-4898-e348-f06ef638fa85"
      },
      "execution_count": null,
      "outputs": [
        {
          "output_type": "stream",
          "name": "stdout",
          "text": [
            "[1, 2, 3, [4, 5, 6, 7], 8, 9]\n",
            "[4, 5, 6, 7]\n",
            "6\n"
          ]
        }
      ]
    },
    {
      "cell_type": "markdown",
      "source": [
        "#**Tuple**\n",
        "\n",
        "Tuples are used to store multiple items in a single variable.\n",
        "\n",
        "A tuple is a collection which is ordered and unchangeable.\n",
        "\n",
        "Tuples are written with round brackets."
      ],
      "metadata": {
        "id": "lNwC9aFpUdlT"
      }
    },
    {
      "cell_type": "code",
      "source": [
        "tuple1=(\"Husnain\",7,5,6.12,bool,\"Husnain\")\n",
        "print(tuple1[0])\n",
        "print(tuple1[1])\n",
        "print(tuple1[2])\n",
        "print(tuple1[3])\n",
        "print(tuple1)\n",
        "print(tuple1[0]==\"Husnain\")\n",
        "# print(tuple1[0]=\"Ali\") ---> error, because tuples are immutable\n",
        "print(\"The length of tuple1 is :\",len(tuple1))"
      ],
      "metadata": {
        "colab": {
          "base_uri": "https://localhost:8080/"
        },
        "id": "gznos652USOK",
        "outputId": "d35e4e56-6c66-4c56-f122-3caee5413fa3"
      },
      "execution_count": null,
      "outputs": [
        {
          "output_type": "stream",
          "name": "stdout",
          "text": [
            "Husnain\n",
            "7\n",
            "5\n",
            "6.12\n",
            "('Husnain', 7, 5, 6.12, <class 'bool'>, 'Husnain')\n",
            "True\n",
            "The length of tuple1 is : 6\n"
          ]
        }
      ]
    },
    {
      "cell_type": "markdown",
      "source": [
        "#**Accessing Tuple Elements**\n",
        "\n",
        "Items in the tuples can be accessed by entering the index number inside square bracket.\n",
        "\n",
        "The index can be a positive index, a negative index or a range of the indices."
      ],
      "metadata": {
        "id": "YDINCNciWcw-"
      }
    },
    {
      "cell_type": "code",
      "source": [
        "T1 = (\"Pakistan\", \"Nepal\", 5, 8.9, \"Sudan\", 55, \"Korea\", \"09\")\n",
        "print(T1[-2])\n",
        "print(T1[-2:-5:-1])"
      ],
      "metadata": {
        "colab": {
          "base_uri": "https://localhost:8080/"
        },
        "id": "7b5GDunwUnA-",
        "outputId": "749cb0ee-9194-4f89-b22f-54dde747b7b7"
      },
      "execution_count": null,
      "outputs": [
        {
          "output_type": "stream",
          "name": "stdout",
          "text": [
            "Korea\n",
            "('Korea', 55, 'Sudan')\n"
          ]
        }
      ]
    },
    {
      "cell_type": "markdown",
      "source": [
        "#**Update Tuples**\n",
        "\n",
        "Tuples are immutable. You can't add or remove items in it. However, there are some hacks to do that."
      ],
      "metadata": {
        "id": "r0mJQse2XEim"
      }
    },
    {
      "cell_type": "code",
      "source": [
        "# Method 1 to add items in a tuple\n",
        "T1 = (\"Pakistan\", \"Nepal\", 5, 8.9, \"Sudan\", 55, \"Korea\", \"09\")\n",
        "x = list(T1)\n",
        "x.append(\"Indonesia\")\n",
        "T1 = tuple(x)\n",
        "print(T1)\n"
      ],
      "metadata": {
        "colab": {
          "base_uri": "https://localhost:8080/"
        },
        "id": "JGU44KntWnyE",
        "outputId": "5043038b-62bc-43d2-f424-f2c2f017a84a"
      },
      "execution_count": null,
      "outputs": [
        {
          "output_type": "stream",
          "name": "stdout",
          "text": [
            "('Pakistan', 'Nepal', 5, 8.9, 'Sudan', 55, 'Korea', '09', 'Indonesia')\n"
          ]
        }
      ]
    },
    {
      "cell_type": "code",
      "source": [
        "# Method 2 to add items in a tuple\n",
        "T1 = (\"Pakistan\", \"Nepal\", 5, 8.9, \"Sudan\", 55, \"Korea\", \"09\")\n",
        "T3 = (\"Python\",)\n",
        "T1 += T3   # T1 = T1+T3\n",
        "print(T1)"
      ],
      "metadata": {
        "colab": {
          "base_uri": "https://localhost:8080/"
        },
        "id": "DZWYKuRoXKUs",
        "outputId": "46959609-27c7-49f4-96bf-61964dbca12b"
      },
      "execution_count": null,
      "outputs": [
        {
          "output_type": "stream",
          "name": "stdout",
          "text": [
            "('Pakistan', 'Nepal', 5, 8.9, 'Sudan', 55, 'Korea', '09', 'Python')\n"
          ]
        }
      ]
    },
    {
      "cell_type": "code",
      "source": [
        "# To remove items from tuple\n",
        "T1 = (\"Pakistan\", \"Nepal\", 5, 8.9, \"Sudan\", 55, \"Korea\", \"09\")\n",
        "x = list(T1)\n",
        "x.remove(\"Pakistan\")\n",
        "T1 = tuple(x)\n",
        "print(T1)"
      ],
      "metadata": {
        "colab": {
          "base_uri": "https://localhost:8080/"
        },
        "id": "rnBFB26NYKgg",
        "outputId": "d0aa9be9-e0ef-48f0-93e1-268e95919233"
      },
      "execution_count": null,
      "outputs": [
        {
          "output_type": "stream",
          "name": "stdout",
          "text": [
            "('Nepal', 5, 8.9, 'Sudan', 55, 'Korea', '09')\n"
          ]
        }
      ]
    },
    {
      "cell_type": "code",
      "source": [
        "# Delete a tuple\n",
        "T1 = (\"Pakistan\", \"Nepal\", 5, 8.9, \"Sudan\", 55, \"Korea\", \"09\")\n",
        "del T1\n",
        "print(T1)"
      ],
      "metadata": {
        "colab": {
          "base_uri": "https://localhost:8080/",
          "height": 180
        },
        "id": "3zMY5-gDYd2K",
        "outputId": "98cfa590-1227-4cbf-910e-348e3aff6348"
      },
      "execution_count": null,
      "outputs": [
        {
          "output_type": "error",
          "ename": "NameError",
          "evalue": "name 'T1' is not defined",
          "traceback": [
            "\u001b[0;31m---------------------------------------------------------------------------\u001b[0m",
            "\u001b[0;31mNameError\u001b[0m                                 Traceback (most recent call last)",
            "\u001b[0;32m<ipython-input-21-cf59a86eec88>\u001b[0m in \u001b[0;36m<cell line: 0>\u001b[0;34m()\u001b[0m\n\u001b[1;32m      2\u001b[0m \u001b[0mT1\u001b[0m \u001b[0;34m=\u001b[0m \u001b[0;34m(\u001b[0m\u001b[0;34m\"Pakistan\"\u001b[0m\u001b[0;34m,\u001b[0m \u001b[0;34m\"Nepal\"\u001b[0m\u001b[0;34m,\u001b[0m \u001b[0;36m5\u001b[0m\u001b[0;34m,\u001b[0m \u001b[0;36m8.9\u001b[0m\u001b[0;34m,\u001b[0m \u001b[0;34m\"Sudan\"\u001b[0m\u001b[0;34m,\u001b[0m \u001b[0;36m55\u001b[0m\u001b[0;34m,\u001b[0m \u001b[0;34m\"Korea\"\u001b[0m\u001b[0;34m,\u001b[0m \u001b[0;34m\"09\"\u001b[0m\u001b[0;34m)\u001b[0m\u001b[0;34m\u001b[0m\u001b[0;34m\u001b[0m\u001b[0m\n\u001b[1;32m      3\u001b[0m \u001b[0;32mdel\u001b[0m \u001b[0mT1\u001b[0m\u001b[0;34m\u001b[0m\u001b[0;34m\u001b[0m\u001b[0m\n\u001b[0;32m----> 4\u001b[0;31m \u001b[0mprint\u001b[0m\u001b[0;34m(\u001b[0m\u001b[0mT1\u001b[0m\u001b[0;34m)\u001b[0m\u001b[0;34m\u001b[0m\u001b[0;34m\u001b[0m\u001b[0m\n\u001b[0m",
            "\u001b[0;31mNameError\u001b[0m: name 'T1' is not defined"
          ]
        }
      ]
    },
    {
      "cell_type": "markdown",
      "source": [
        "#**Unpacking a Tuple**\n",
        "\n",
        "When we assign values to a tuple, it is packing the tuple.\n",
        "\n",
        "We can also unpack the tuple and assign these values to different variables."
      ],
      "metadata": {
        "id": "Wu-ZIhYaY46L"
      }
    },
    {
      "cell_type": "code",
      "source": [
        "\n",
        "T1 = (\"Pakistan\", \"Nepal\",\"Sudan\",\"Korea\")\n",
        "country1,country2,country3,country4=T1\n",
        "print(T1)\n",
        "print(len(T1))\n",
        "print(type(T1))\n",
        "print(country1)\n",
        "print(country2)\n",
        "print(country3)\n",
        "print(country4)\n",
        "print(type(country1))"
      ],
      "metadata": {
        "colab": {
          "base_uri": "https://localhost:8080/"
        },
        "id": "oT6-ZYBlYgK2",
        "outputId": "a6c7122d-1195-4d47-f98d-bf9d8327b9a0"
      },
      "execution_count": null,
      "outputs": [
        {
          "output_type": "stream",
          "name": "stdout",
          "text": [
            "('Pakistan', 'Nepal', 'Sudan', 'Korea')\n",
            "4\n",
            "<class 'tuple'>\n",
            "Pakistan\n",
            "Nepal\n",
            "Sudan\n",
            "Korea\n",
            "<class 'str'>\n"
          ]
        }
      ]
    },
    {
      "cell_type": "code",
      "source": [
        "T1 = (\"Pakistan\", \"Nepal\", 5, 8.9, \"Sudan\", 55, \"Korea\", \"09\")\n",
        "var1, var2, var3, var4, *var5 = T1\n",
        "print(var3)\n",
        "print(var4)\n",
        "print(var5) #*var5 acts as a packing operator, which stores the remaining elements in a list."
      ],
      "metadata": {
        "colab": {
          "base_uri": "https://localhost:8080/"
        },
        "id": "iGiwO-cMZQYT",
        "outputId": "fe3633f5-2a68-4cd0-dc25-3a374e97a1f9"
      },
      "execution_count": null,
      "outputs": [
        {
          "output_type": "stream",
          "name": "stdout",
          "text": [
            "5\n",
            "8.9\n",
            "['Sudan', 55, 'Korea', '09']\n"
          ]
        }
      ]
    },
    {
      "cell_type": "markdown",
      "source": [
        "#**Join Tuples**\n",
        "\n",
        "To join tuples, you can use `+` operator."
      ],
      "metadata": {
        "id": "OC91uJr6br5H"
      }
    },
    {
      "cell_type": "code",
      "source": [
        "join1 = (3, 5, 7)\n",
        "join2 = (\"P\", \"A\", \"K\")\n",
        "join3 = (2, 4, 6)\n",
        "join1 += join2 + join3\n",
        "print(join1)"
      ],
      "metadata": {
        "colab": {
          "base_uri": "https://localhost:8080/"
        },
        "id": "X0RXxzh2ZW1Q",
        "outputId": "67e3539e-7c3f-4d7c-9721-4f4d6e63dd20"
      },
      "execution_count": null,
      "outputs": [
        {
          "output_type": "stream",
          "name": "stdout",
          "text": [
            "(3, 5, 7, 'P', 'A', 'K', 2, 4, 6)\n"
          ]
        }
      ]
    },
    {
      "cell_type": "markdown",
      "source": [
        "#**Multiply Tuples**\n",
        "\n",
        "If you want to multiply the content of a tuple a given number of times, you can use the `*` operator."
      ],
      "metadata": {
        "id": "ZcXwzGZQcg59"
      }
    },
    {
      "cell_type": "code",
      "source": [
        "tuple1=(\"Husnain\",512)\n",
        "tuple2=tuple1*2\n",
        "print(tuple2)"
      ],
      "metadata": {
        "colab": {
          "base_uri": "https://localhost:8080/"
        },
        "id": "nEkJ5rnTbwc2",
        "outputId": "95338413-cbe3-46dc-a07c-cfdc6861b81c"
      },
      "execution_count": null,
      "outputs": [
        {
          "output_type": "stream",
          "name": "stdout",
          "text": [
            "('Husnain', 512, 'Husnain', 512)\n"
          ]
        }
      ]
    },
    {
      "cell_type": "code",
      "source": [
        "a = [\"Husnain\"]\n",
        "print(a*5)"
      ],
      "metadata": {
        "colab": {
          "base_uri": "https://localhost:8080/"
        },
        "id": "O65r-jaBcsr9",
        "outputId": "a2294cbb-cb8b-4565-b471-58803f21ec9f"
      },
      "execution_count": null,
      "outputs": [
        {
          "output_type": "stream",
          "name": "stdout",
          "text": [
            "['Husnain', 'Husnain', 'Husnain', 'Husnain', 'Husnain']\n"
          ]
        }
      ]
    },
    {
      "cell_type": "markdown",
      "source": [
        "#**Tuple Methods**\n",
        "\n",
        "Python has two built-in methods for tuple.\n",
        "\n",
        "* `count()` method\n",
        "\n",
        "* `index()` method"
      ],
      "metadata": {
        "id": "swXhx317dUBg"
      }
    },
    {
      "cell_type": "code",
      "source": [
        "T1 = (\"Pakistan\", \"Nepal\",\"Pakistan\",5, 8.9, \"Sudan\", 55, \"Korea\", \"09\")\n",
        "print(T1.count(\"Pakistan\"))\n",
        "print(T1.index(5))"
      ],
      "metadata": {
        "colab": {
          "base_uri": "https://localhost:8080/"
        },
        "id": "3MgFVW5Fc1bQ",
        "outputId": "794710bf-7ba5-49ab-c665-5f2ccebdddb9"
      },
      "execution_count": null,
      "outputs": [
        {
          "output_type": "stream",
          "name": "stdout",
          "text": [
            "2\n",
            "3\n"
          ]
        }
      ]
    },
    {
      "cell_type": "markdown",
      "source": [
        "#**Sets**\n",
        "\n",
        "Like lists and tuples, sets are used to store multiple values of different data types in a single variable.\n",
        "\n",
        "Set items are unordered, unindexed, unchangable and don't allow duplicate values.\n",
        "\n",
        "(Set items are immutable, we can still add and remove items).\n",
        "\n",
        "Sets are written with curly brackets."
      ],
      "metadata": {
        "id": "EwNN2EXKhSmg"
      }
    },
    {
      "cell_type": "code",
      "source": [
        "List = [\"Lahore\",5, \"Faisalabad\", 1, 5, True]\n",
        "List = set(List)\n",
        "print((List))\n",
        "print(type(List))"
      ],
      "metadata": {
        "id": "i6gBJhTFdgv5",
        "colab": {
          "base_uri": "https://localhost:8080/"
        },
        "outputId": "61f2dc22-e102-4d30-da76-107f39bdc460"
      },
      "execution_count": null,
      "outputs": [
        {
          "output_type": "stream",
          "name": "stdout",
          "text": [
            "{'Lahore', 1, 'Faisalabad', 5}\n",
            "<class 'set'>\n"
          ]
        }
      ]
    },
    {
      "cell_type": "code",
      "source": [
        "# Duplicates not allowed in sets\n",
        "set1 ={\"Lahore\", 5, \"false\" , \"Lahore\",\"Faisalabad\", \"Lahore\",\"Lahore\",8,99}\n",
        "print((set1))\n",
        "\n",
        "set2 = {5, True, 5}\n",
        "print(set2)"
      ],
      "metadata": {
        "colab": {
          "base_uri": "https://localhost:8080/"
        },
        "id": "hES7Kp01haYc",
        "outputId": "f744e701-f270-425e-c4f2-3dd9ee00030b"
      },
      "execution_count": null,
      "outputs": [
        {
          "output_type": "stream",
          "name": "stdout",
          "text": [
            "{99, 'Faisalabad', 5, 'false', 'Lahore', 8}\n",
            "{True, 5}\n"
          ]
        }
      ]
    },
    {
      "cell_type": "code",
      "source": [
        "print(len(set2))"
      ],
      "metadata": {
        "colab": {
          "base_uri": "https://localhost:8080/"
        },
        "id": "_kPJsliRhgdr",
        "outputId": "abd76aa6-b8a5-4806-fda2-0344b2029e45"
      },
      "execution_count": null,
      "outputs": [
        {
          "output_type": "stream",
          "name": "stdout",
          "text": [
            "2\n"
          ]
        }
      ]
    },
    {
      "cell_type": "markdown",
      "source": [
        "#**Access Set Items**\n",
        "\n",
        "You cannot access items in a set by referring to an index or a key.\n",
        "\n",
        "But you can loop through the set items using a `for` loop, or ask if a specified value is present in a set, by using the `in` keyword."
      ],
      "metadata": {
        "id": "dqjeyDKGiJZk"
      }
    },
    {
      "cell_type": "code",
      "source": [
        "if \"Lahore\" in set1:\n",
        "  print(\"True\")\n",
        "else:\n",
        "  print(\"False\")"
      ],
      "metadata": {
        "colab": {
          "base_uri": "https://localhost:8080/"
        },
        "id": "I6GVwr6-hv8d",
        "outputId": "f348506b-d4b4-4d86-d31a-9153e81de3b2"
      },
      "execution_count": null,
      "outputs": [
        {
          "output_type": "stream",
          "name": "stdout",
          "text": [
            "True\n"
          ]
        }
      ]
    },
    {
      "cell_type": "code",
      "source": [
        "print(\"Lahore\" in set1)"
      ],
      "metadata": {
        "colab": {
          "base_uri": "https://localhost:8080/"
        },
        "id": "EOntD0Z6ia_S",
        "outputId": "a3f70fbc-9fbe-4088-ca95-dd656f4024e9"
      },
      "execution_count": null,
      "outputs": [
        {
          "output_type": "stream",
          "name": "stdout",
          "text": [
            "True\n"
          ]
        }
      ]
    },
    {
      "cell_type": "markdown",
      "source": [
        "#**Add items in a Set**\n",
        "\n",
        "Once a set is created, you cannot change its items, but you can add new items.\n",
        "\n",
        "To add an item to a set, use the `add()` method.\n",
        "\n",
        "To add items from another set into the current set, use the `update()` method."
      ],
      "metadata": {
        "id": "1LP6ePtZjHAW"
      }
    },
    {
      "cell_type": "code",
      "source": [
        "set1={\"Husnain\",\"Feroz\"}\n",
        "set1.add(\"Awan\")\n",
        "print(set1)"
      ],
      "metadata": {
        "colab": {
          "base_uri": "https://localhost:8080/"
        },
        "id": "xqBGOcIKiqgo",
        "outputId": "c8ae26a6-52c0-485d-cc9d-61a8a665aebf"
      },
      "execution_count": null,
      "outputs": [
        {
          "output_type": "stream",
          "name": "stdout",
          "text": [
            "{'Feroz', 'Husnain', 'Awan'}\n"
          ]
        }
      ]
    },
    {
      "cell_type": "code",
      "source": [
        "set1={\"Husnain\",\"Feroz\"}\n",
        "set2={\"Awan\"}\n",
        "set1.update(set2)\n",
        "print(set1)"
      ],
      "metadata": {
        "colab": {
          "base_uri": "https://localhost:8080/"
        },
        "id": "1VmZUU9LjE9G",
        "outputId": "d2bbe6e4-a2bf-470c-ea7b-9f3f1d1641c6"
      },
      "execution_count": null,
      "outputs": [
        {
          "output_type": "stream",
          "name": "stdout",
          "text": [
            "{'Feroz', 'Husnain', 'Awan'}\n"
          ]
        }
      ]
    },
    {
      "cell_type": "markdown",
      "source": [
        "#**Remove Set Items**\n"
      ],
      "metadata": {
        "id": "kqTSFEpEjovd"
      }
    },
    {
      "cell_type": "code",
      "source": [
        "set1.discard(\"Awan\")\n",
        "print(set1)"
      ],
      "metadata": {
        "colab": {
          "base_uri": "https://localhost:8080/"
        },
        "id": "YRWGUH3cjeW2",
        "outputId": "6bb1d853-5d82-4e04-fb6d-4fb0111d3c6d"
      },
      "execution_count": null,
      "outputs": [
        {
          "output_type": "stream",
          "name": "stdout",
          "text": [
            "{'Feroz', 'Husnain'}\n"
          ]
        }
      ]
    },
    {
      "cell_type": "code",
      "source": [
        "set1.remove(\"Feroz\")\n",
        "print(set1)"
      ],
      "metadata": {
        "colab": {
          "base_uri": "https://localhost:8080/"
        },
        "id": "6tX_3ku0jtBD",
        "outputId": "1b8e6750-5059-45cf-e0fb-a068c7336919"
      },
      "execution_count": null,
      "outputs": [
        {
          "output_type": "stream",
          "name": "stdout",
          "text": [
            "{'Husnain'}\n"
          ]
        }
      ]
    },
    {
      "cell_type": "code",
      "source": [
        "set1.clear()\n",
        "print(set1)"
      ],
      "metadata": {
        "colab": {
          "base_uri": "https://localhost:8080/"
        },
        "id": "99yaxRgGj0lX",
        "outputId": "2b8ac66f-c711-4fa0-f64b-ae49819f097c"
      },
      "execution_count": null,
      "outputs": [
        {
          "output_type": "stream",
          "name": "stdout",
          "text": [
            "set()\n"
          ]
        }
      ]
    },
    {
      "cell_type": "markdown",
      "source": [
        "#**Join Sets**\n",
        "\n"
      ],
      "metadata": {
        "id": "Quoq9deeld_q"
      }
    },
    {
      "cell_type": "code",
      "source": [
        "set1={\"Husnain\",\"Feroz\"}\n",
        "set2={\"Awan\"}\n",
        "set1=set1.union(set2)\n",
        "print(set1)"
      ],
      "metadata": {
        "colab": {
          "base_uri": "https://localhost:8080/"
        },
        "id": "Bj97Pxs9lPG_",
        "outputId": "ec5dff1c-a884-4355-beef-cd8e4f84b8e4"
      },
      "execution_count": null,
      "outputs": [
        {
          "output_type": "stream",
          "name": "stdout",
          "text": [
            "{'Feroz', 'Husnain', 'Awan'}\n"
          ]
        }
      ]
    },
    {
      "cell_type": "markdown",
      "source": [
        "#**Some Set Methods**\n",
        "\n",
        "* `intersection_update()`\\\n",
        "The intersection_update() method will keep only the items that are present in both sets.\n",
        "\n",
        "* `intersection()`\\\n",
        "The intersection() method will return a new set, that only contains the items that are present in both sets.\n",
        "\n",
        "* `symmetric_difference()`\\\n",
        "The `symmetric_difference()` method returns the unique elements from two sets, meaning it excludes the elements that are common in both sets.\n",
        "\n",
        "* `difference()`\\\n",
        "The difference() method Returns a set containing the difference between two or more sets."
      ],
      "metadata": {
        "id": "zdyoeHTTlov5"
      }
    },
    {
      "cell_type": "code",
      "source": [
        "set1={\"Husnain\",5,12,14,72,110}\n",
        "set2={5,12,14,72}\n",
        "set1.intersection_update(set2)\n",
        "print(set1)"
      ],
      "metadata": {
        "colab": {
          "base_uri": "https://localhost:8080/"
        },
        "id": "UVLS3q2ylXPy",
        "outputId": "6a22e77d-5547-4c38-8e3a-68d4e688cebc"
      },
      "execution_count": null,
      "outputs": [
        {
          "output_type": "stream",
          "name": "stdout",
          "text": [
            "{72, 12, 5, 14}\n"
          ]
        }
      ]
    },
    {
      "cell_type": "code",
      "source": [
        "set1={\"Husnain\",5,12,14,72,110}\n",
        "set2={5,12,14,72}\n",
        "set3=set1.intersection(set2)\n",
        "print(set3)"
      ],
      "metadata": {
        "colab": {
          "base_uri": "https://localhost:8080/"
        },
        "id": "VE4fGiB_m1xF",
        "outputId": "4add4378-197c-42a3-f058-67ee2f812501"
      },
      "execution_count": null,
      "outputs": [
        {
          "output_type": "stream",
          "name": "stdout",
          "text": [
            "{72, 12, 5, 14}\n"
          ]
        }
      ]
    },
    {
      "cell_type": "code",
      "source": [
        "\n",
        "set1 = {\"Lahore\", \"Faisalabad\", 5,6}\n",
        "set2 = {5,7,\"Multan\"}\n",
        "x = set1.difference(set2)\n",
        "print(x)"
      ],
      "metadata": {
        "colab": {
          "base_uri": "https://localhost:8080/"
        },
        "id": "MQFy7u76npH5",
        "outputId": "587b4fad-a68d-428a-9a08-8969b4780662"
      },
      "execution_count": null,
      "outputs": [
        {
          "output_type": "stream",
          "name": "stdout",
          "text": [
            "{'Lahore', 'Faisalabad', 6}\n"
          ]
        }
      ]
    },
    {
      "cell_type": "code",
      "source": [
        "set1={\"Husnain\",5,12,14,72,110}\n",
        "set2={5,12,14,72}\n",
        "result=set1.symmetric_difference(set2)\n",
        "print(result)"
      ],
      "metadata": {
        "colab": {
          "base_uri": "https://localhost:8080/"
        },
        "id": "F8ZyTHIsrM1Q",
        "outputId": "9a6a87f2-588e-4fca-eadb-b136707f7b0b"
      },
      "execution_count": null,
      "outputs": [
        {
          "output_type": "stream",
          "name": "stdout",
          "text": [
            "{110, 'Husnain'}\n"
          ]
        }
      ]
    },
    {
      "cell_type": "markdown",
      "source": [
        "#**Dictionaries**\n",
        "\n",
        "Dictionaries are used to store data values in key:value pairs.\n",
        "\n",
        "Dictionary items are ordered, changable, and do not allow duplicates.\n",
        "\n",
        "Dictionaries are written with curly brackets, and have keys and values.\n",
        "\n"
      ],
      "metadata": {
        "id": "EV3PMDQKu4Gj"
      }
    },
    {
      "cell_type": "code",
      "source": [
        "Info={\"name\":\"Muhammad Husnain\",\n",
        "      \"age\":23,\n",
        "      \"domain\":\"IT\"}\n",
        "\n",
        "print(Info)\n",
        "print(type(Info))\n",
        "print(Info[\"name\"])\n",
        "print(Info[\"age\"])\n",
        "print(Info[\"domain\"])"
      ],
      "metadata": {
        "colab": {
          "base_uri": "https://localhost:8080/"
        },
        "id": "t2bky5cfr-r7",
        "outputId": "92c042c2-a356-4835-c2b7-ea550e3f0cf1"
      },
      "execution_count": null,
      "outputs": [
        {
          "output_type": "stream",
          "name": "stdout",
          "text": [
            "{'name': 'Muhammad Husnain', 'age': 23, 'domain': 'IT'}\n",
            "<class 'dict'>\n",
            "Muhammad Husnain\n",
            "23\n",
            "IT\n"
          ]
        }
      ]
    },
    {
      "cell_type": "markdown",
      "source": [
        "# **Length of a dictionary:**\n",
        "By using len() function, we can get the number of key-value pairs in a dictionary."
      ],
      "metadata": {
        "id": "-mpUA724wFHp"
      }
    },
    {
      "cell_type": "code",
      "source": [
        "print(len(I))"
      ],
      "metadata": {
        "id": "7rvqN5QovNJI"
      },
      "execution_count": null,
      "outputs": []
    },
    {
      "cell_type": "markdown",
      "source": [
        "# Introduction to Functions\n",
        "\n",
        "To understand functions, let's consider an analogy. Imagine that a chef works in a restaurant and gets repeated orders for recipes. The chef has two options:\n",
        "\n",
        "## Option 1:\n",
        "He takes a recipe book, and every time he gets an order, he writes down the steps of that order and starts making the recipe.\n",
        "\n",
        "## Option 2:\n",
        "He writes down the recipe once and hangs it in one place. Whenever he gets an order for the same recipe, he simply follows the steps and makes the recipe.\n",
        "\n",
        "Similarly, when we need to perform a task repeatedly in Python for a specific output, instead of writing the same lines of code again and again, we define a function. This function can be called whenever needed.\n",
        "\n",
        "---\n",
        "\n",
        "## Benefits of Functions\n",
        "\n",
        "Using functions in programming offers several benefits:\n",
        "\n",
        "### Code Reusability\n",
        "You do not need to rewrite the same code repeatedly. Functions allow you to reuse the code, making your program more efficient.\n",
        "\n",
        "### Concise, Clean, and Modular Code\n",
        "If you have multiple tasks to perform, you can create a function for each task. This makes the code more organized and easier to understand. For example, instead of writing 10 lines of code for 10 tasks, you can create functions for each and use them multiple times.\n",
        "\n",
        "### Error Reduction\n",
        "When performing repetitive tasks, the chances of making mistakes increase. By using functions, you reduce the possibility of errors as you are calling the same code instead of re-writing it every time.\n",
        "\n",
        "---\n",
        "\n",
        "## How Functions Work\n",
        "\n",
        "### Function Definition\n",
        "To create a function in Python, you define it with a name, and it can take inputs (parameters) and produce outputs.\n",
        "\n",
        "### Example of a Function\n",
        "Consider a juicer machine:\n",
        "- **Input:** A fruit.\n",
        "- **Output:** Juice made from that fruit.\n",
        "\n",
        "You can use this machine repeatedly for different fruits to get juice, similar to how a function works with inputs and outputs.\n",
        "\n",
        "---\n",
        "\n",
        "## Key Components of a Function Definition\n",
        "\n",
        "1. **`def`** → A keyword that marks the beginning of the function.\n",
        "2. **`function_name`** → A unique name for identifying the function.\n",
        "3. **Parameters (optional)** → Values passed to the function for processing.\n",
        "4. **`:` (Colon)** → Marks the end of the function header.\n",
        "5. **Function body** → Contains the logic (instructions) that the function executes.\n",
        "6. **`'''docstring'''`** → Used to describe what the function executes.\n",
        "7. **`return` (optional)** → Returns a result to the caller.\n",
        "\n",
        "---\n",
        "\n",
        "## Python Built-in Functions\n",
        "\n",
        "Python provides many built-in functions to perform common tasks. Here are a few of them:\n",
        "\n",
        "### `len()`\n",
        "Returns the length of an object (string, list, etc.).\n",
        "\n",
        "```python\n",
        "text = \"Python\"\n",
        "print(len(text))  # Output: 6\n",
        "```\n",
        "\n",
        "### `max()`\n",
        "Returns the maximum value from a list.\n",
        "\n",
        "```python\n",
        "numbers = [1, 2, 3, 4, 5]\n",
        "print(max(numbers))  # Output: 5\n",
        "```\n",
        "\n",
        "### `sorted()`\n",
        "Sorts a list in ascending order.\n",
        "\n",
        "```python\n",
        "ratings = [4.2, 3.5, 5.0, 3.8]\n",
        "print(sorted(ratings))  # Output: [3.5, 3.8, 4.2, 5.0]\n",
        "```\n",
        "\n",
        "### `range()`\n",
        "Generates a sequence of numbers.\n",
        "\n",
        "```python\n",
        "for i in range(5):\n",
        "    print(i)  # Output: 0, 1, 2, 3, 4\n",
        "```\n",
        "\n",
        "### `id()`\n",
        "Returns the memory address of an object.\n",
        "\n",
        "```python\n",
        "x = 10\n",
        "print(id(x))  # Output: Memory address of the object\n",
        "```\n",
        "\n",
        "### `eval()`\n",
        "Evaluates a string as a Python expression.\n",
        "\n",
        "```python\n",
        "expression = \"5 + 3 * 2\"\n",
        "result = eval(expression)\n",
        "print(result)  # Output: 11\n",
        "```\n",
        "\n",
        "---\n",
        "\n",
        "## Function Execution with Input and Output\n",
        "\n",
        "Functions can take input and provide output. Here are some examples of how to use them effectively:\n",
        "\n",
        "### Input and Output Example\n",
        "If you want to display a message and take input from the user, you can use the `input()` function:\n",
        "\n",
        "```python\n",
        "name = input(\"Enter your name: \")\n",
        "print(\"Hello\", name)\n",
        "```\n",
        "\n",
        "### Meaningful Messages\n",
        "It is important to display meaningful messages for better readability and user experience. For example:\n",
        "\n",
        "```python\n",
        "print(f\"The length of the string is {len(name)}\")\n",
        "```\n",
        "\n",
        "---\n",
        "\n",
        "## Sorting and Evaluating Data\n",
        "\n",
        "### `sorted()` Function\n",
        "By default, the `sorted()` function sorts numbers or lists in ascending order. However, you can also sort in descending order by specifying the `reverse` parameter:\n",
        "\n",
        "```python\n",
        "ratings = [4.5, 3.0, 5.0, 4.0]\n",
        "print(sorted(ratings))  # Output: [3.0, 4.0, 4.5, 5.0]\n",
        "```\n",
        "\n",
        "### Using `eval()` for Mathematical Expressions\n",
        "If you have a mathematical expression in string form, you can use the `eval()` function to compute it:\n",
        "\n",
        "```python\n",
        "expression = \"5 + 3 * 2\"\n",
        "result = eval(expression)\n",
        "print(result)  # Output: 11\n",
        "```\n",
        "\n",
        "---\n",
        "\n",
        "## Python Functions and Their Types\n",
        "\n",
        "In Python, there are two types of functions:\n",
        "\n",
        "### Built-in Functions\n",
        "These are predefined functions provided by Python to perform common tasks. Examples include `print()`, `input()`, `sorted()`, `max()`, etc.\n",
        "\n",
        "### User-defined Functions\n",
        "These are functions that programmers define based on their requirements. For example, you might need to create a function to solve a unique problem in your program that isn’t covered by built-in functions.\n",
        "\n",
        "#### User-Defined Function Example\n",
        "\n",
        "```python\n",
        "def greet(name):\n",
        "    print(f\"Hello, {name}!\")\n",
        "\n",
        "greet(\"Alice\")  # Output: Hello, Alice!\n",
        "```\n",
        "\n",
        "---\n",
        "<!--\n",
        "## Final Thoughts\n",
        "\n",
        "- Functions are essential for writing efficient, reusable, and modular code.\n",
        "- Python provides a rich set of built-in functions for performing everyday tasks without writing additional code.\n",
        "- In situations where built-in functions do not meet your needs, you can define user-defined functions. -->\n",
        "\n"
      ],
      "metadata": {
        "id": "aUM-YdSlaVvM"
      }
    },
    {
      "cell_type": "code",
      "source": [
        "# defining the function 'add', that takes two numbers as parameter\n",
        "def add(num1,num2):\n",
        "  '''This function takes two numbers and will return their sum.'''\n",
        "  print(\"Number1 is:\", num1)\n",
        "  print(\"Number2 is:\", num2)\n",
        "  addition=num1+num2\n",
        "  return addition\n",
        "result=add(12,14)\n",
        "print(\"The result is:\",result)"
      ],
      "metadata": {
        "colab": {
          "base_uri": "https://localhost:8080/"
        },
        "id": "GwlQd0MUaecc",
        "outputId": "0892fe73-b4a4-4fd1-ee64-60bd519faa87"
      },
      "execution_count": null,
      "outputs": [
        {
          "output_type": "stream",
          "name": "stdout",
          "text": [
            "Number1 is: 12\n",
            "Number2 is: 14\n",
            "The result is: 26\n"
          ]
        }
      ]
    },
    {
      "cell_type": "code",
      "source": [
        "# function can be declare without parameters.\n",
        "def greet():\n",
        "  print(\"Hello, kesy ho Dost!\")\n",
        "\n",
        "greet()"
      ],
      "metadata": {
        "colab": {
          "base_uri": "https://localhost:8080/"
        },
        "id": "lvY8PyfNeRuU",
        "outputId": "04dbc662-edac-498a-8710-eb5d633d71d4"
      },
      "execution_count": null,
      "outputs": [
        {
          "output_type": "stream",
          "name": "stdout",
          "text": [
            "Hello, kesy ho Dost!\n"
          ]
        }
      ]
    },
    {
      "cell_type": "markdown",
      "source": [
        "# Function Arguments and Return Statement\n",
        "\n",
        "Function arguments allow us to pass values into a function, making it more flexible and reusable. There are four types of arguments:\n",
        "\n",
        "1. **Default Arguments**  \n",
        "2. **Keyword Arguments**  \n",
        "3. **Required Arguments**  \n",
        "4. **Variable-Length Arguments**  \n"
      ],
      "metadata": {
        "id": "MPT-vOUflVqQ"
      }
    },
    {
      "cell_type": "code",
      "source": [
        "# function with default argument\n",
        "def greet(name=\"Husnain\"):\n",
        "  print(f\"Hello, {name}!\")\n",
        "greet()\n",
        "greet(\"Ali\")"
      ],
      "metadata": {
        "colab": {
          "base_uri": "https://localhost:8080/"
        },
        "id": "zmcMobf6kkmR",
        "outputId": "8f913f52-948f-47e1-d2fb-3178e05d9ee2"
      },
      "execution_count": null,
      "outputs": [
        {
          "output_type": "stream",
          "name": "stdout",
          "text": [
            "Hello, Husnain!\n",
            "Hello, Ali!\n"
          ]
        }
      ]
    },
    {
      "cell_type": "code",
      "source": [
        "# function with keyword argument\n",
        "def name(fname,mname,lname):\n",
        "  print(f\"Hello, {fname} {mname} {lname}!\")\n",
        "name(\"Husnain\",\"Feroz\",\"Awan\")\n",
        "name(fname=\"Husnain\",mname=\"Feroz\",lname=\"Awan\")"
      ],
      "metadata": {
        "colab": {
          "base_uri": "https://localhost:8080/"
        },
        "id": "EhoKrBYElpYe",
        "outputId": "bd080af0-de09-4222-ef0a-46526b67a1ef"
      },
      "execution_count": null,
      "outputs": [
        {
          "output_type": "stream",
          "name": "stdout",
          "text": [
            "Hello, Husnain Feroz Awan!\n",
            "Hello, Husnain Feroz Awan!\n"
          ]
        }
      ]
    },
    {
      "cell_type": "code",
      "source": [
        "# function with required arguments\n",
        "def add(a, b):\n",
        "    return a + b\n",
        "\n",
        "print(add(3, 5))  # Output: 8\n"
      ],
      "metadata": {
        "colab": {
          "base_uri": "https://localhost:8080/"
        },
        "id": "_AKpUQgMrufk",
        "outputId": "42af3555-faa8-407b-d363-bd901139ba7f"
      },
      "execution_count": null,
      "outputs": [
        {
          "output_type": "stream",
          "name": "stdout",
          "text": [
            "8\n"
          ]
        }
      ]
    },
    {
      "cell_type": "code",
      "source": [
        "# function with *args(tuple of arguments)\n",
        "def name(*names):\n",
        "  print(\"Hello,\", names[0], names[1],names[2])\n",
        "\n",
        "name(\"Husnain\",\"Feroz\",\"Awan\")"
      ],
      "metadata": {
        "colab": {
          "base_uri": "https://localhost:8080/"
        },
        "id": "Gw33n0MemeFg",
        "outputId": "66d4813a-c86e-4122-9b07-2a622845e6e0"
      },
      "execution_count": null,
      "outputs": [
        {
          "output_type": "stream",
          "name": "stdout",
          "text": [
            "Hello, Husnain Feroz Awan\n"
          ]
        }
      ]
    },
    {
      "cell_type": "markdown",
      "source": [
        "# Understanding Local and Global Variables\n",
        "\n",
        "## Local Variables\n",
        "- Defined inside a function and **cannot be accessed outside**.\n",
        "\n",
        "## Global Variables\n",
        "- Defined outside functions and **can be accessed anywhere**.\n",
        "\n",
        "---\n",
        "\n",
        "## Modifying Global Variables Inside Functions\n",
        "\n",
        "### Use the `global` Keyword\n",
        "To modify a global variable inside a function, use the `global` keyword.\n",
        "\n",
        "### Access and Modify\n",
        "The `global` keyword gives you permission to modify the variable.\n",
        "\n",
        "### Changes Persist\n",
        "Changes to the global variable remain after the function exits.\n",
        "\n",
        "### Example: Using the `global` Keyword to Update a Global Counter\n",
        "```python\n",
        "counter = 0  # Global variable\n",
        "\n",
        "def update_counter():\n",
        "    global counter  # Using global keyword\n",
        "    counter += 1  # Modifying global variable\n",
        "\n",
        "update_counter()\n",
        "print(counter)  # Output: 1\n"
      ],
      "metadata": {
        "id": "6CdIjNp51F-A"
      }
    },
    {
      "cell_type": "code",
      "source": [
        "x=512 # global variable\n",
        "\n",
        "def my_function():\n",
        "  y=514 # local variable\n",
        "  print(f\"The values of x is {x} and y is {y}\")\n",
        "\n",
        "my_function()\n",
        "print(\"The value of x is\",x) # y cannot be accessed here"
      ],
      "metadata": {
        "id": "8Zj9Lt10nPpD",
        "colab": {
          "base_uri": "https://localhost:8080/"
        },
        "outputId": "0aab7cfb-d581-40b0-ab9e-7cab83ea3020"
      },
      "execution_count": null,
      "outputs": [
        {
          "output_type": "stream",
          "name": "stdout",
          "text": [
            "The values of x is 512 and y is 514\n",
            "The value of x is 512\n"
          ]
        }
      ]
    },
    {
      "cell_type": "markdown",
      "source": [
        "# Python Variable Scope: LEGB Rule\n",
        "\n",
        "Python follows the **LEGB** (Local, Enclosing, Global, Built-in) rule to determine variable scope:\n",
        "\n",
        "1. **Local (L)** - Variables declared inside a function.\n",
        "2. **Enclosing (E)** - Variables in enclosing functions (nested functions).\n",
        "3. **Global (G)** - Variables declared at the top level of a script.\n",
        "4. **Built-in (B)** - Predefined variables in Python (e.g., `print`, `len`).\n",
        "\n",
        "This hierarchy helps Python determine which variable to use when there are multiple scopes.\n"
      ],
      "metadata": {
        "id": "HpXyX8wCNmhp"
      }
    },
    {
      "cell_type": "code",
      "source": [
        "x='global' #global variable\n",
        "\n",
        "def outer_function():\n",
        "  x='enclosing' # enclosing variable\n",
        "  def inner_function():\n",
        "    x='local' # local variable\n",
        "    print('Inside inner function:',x) # print local variable\n",
        "  inner_function()\n",
        "  print('Inside outer function:',x) # print enclosing variable\n",
        "\n",
        "outer_function()\n",
        "print('Outside all functions:',x) # print global variable"
      ],
      "metadata": {
        "colab": {
          "base_uri": "https://localhost:8080/"
        },
        "id": "0JQcLgUB14eg",
        "outputId": "3c228fc9-d9c7-465b-d281-fa9631c7d294"
      },
      "execution_count": null,
      "outputs": [
        {
          "output_type": "stream",
          "name": "stdout",
          "text": [
            "Inside inner function: local\n",
            "Inside outer function: enclosing\n",
            "Outside all functions: global\n"
          ]
        }
      ]
    },
    {
      "cell_type": "markdown",
      "source": [
        "# Modifying Global Variables Inside a Function\n",
        "\n",
        "To modify a global variable inside a function, we must use the `global` keyword.\n",
        "\n",
        "## Example: Using the `global` Keyword\n",
        "\n"
      ],
      "metadata": {
        "id": "FLr-hZjWOHmQ"
      }
    },
    {
      "cell_type": "code",
      "source": [
        "count = 0  # Global variable\n",
        "\n",
        "def increment():\n",
        "    global count  # Declaring count as global\n",
        "    count += 1  # Modifying global variable\n",
        "\n",
        "increment()\n",
        "print(\"Updated counter:\",count)  # Output: 1"
      ],
      "metadata": {
        "colab": {
          "base_uri": "https://localhost:8080/"
        },
        "id": "3V-nj6hsOLMC",
        "outputId": "5b4bbdd7-af9c-4fe1-a992-9de51872e302"
      },
      "execution_count": null,
      "outputs": [
        {
          "output_type": "stream",
          "name": "stdout",
          "text": [
            "Updated counter: 1\n"
          ]
        }
      ]
    },
    {
      "cell_type": "markdown",
      "source": [
        "# Best Practices for Using Global and Local Variables\n",
        "\n",
        "- **Prefer local variables** whenever possible to avoid unintended side effects.  \n",
        "- **Minimize the use of global variables** to keep code modular and maintainable.  \n",
        "- **Use function arguments** to pass values instead of relying on global state.  \n"
      ],
      "metadata": {
        "id": "Knd2JOriRa2l"
      }
    },
    {
      "cell_type": "markdown",
      "source": [
        "\n",
        "# Understanding `is` (Identity Comparison)\n",
        "\n",
        "The `is` operator checks if two variables **refer to the same object in memory**.\n",
        "\n",
        "## Example: Checking Object Identity\n",
        "\n",
        "\n",
        "\n"
      ],
      "metadata": {
        "id": "JZyzAzfnVnvD"
      }
    },
    {
      "cell_type": "code",
      "source": [
        "a = 10\n",
        "b = 10\n",
        "\n",
        "print(a is b)  # Output: True (Same memory location for small integers)\n",
        "\n",
        "x = [1, 2, 3]\n",
        "y = [1, 2, 3]\n",
        "\n",
        "print(x is y)  # Output: False (Different memory locations for lists)\n"
      ],
      "metadata": {
        "colab": {
          "base_uri": "https://localhost:8080/"
        },
        "id": "8_M-joFrV3lk",
        "outputId": "ccba2322-52e1-4ece-9f1a-b9fcaa8f6264"
      },
      "execution_count": null,
      "outputs": [
        {
          "output_type": "stream",
          "name": "stdout",
          "text": [
            "True\n",
            "False\n"
          ]
        }
      ]
    },
    {
      "cell_type": "markdown",
      "source": [
        "Key Points:\n",
        "- `is` compares **memory addresses**, not just values.\n",
        "- Works well with **immutable types** (e.g., integers, strings) due to Python's internal optimizations.\n",
        "- For **mutable types** (e.g., lists, dictionaries), even if contents are the same, they may be stored at different locations."
      ],
      "metadata": {
        "id": "yoLLhinBVr7O"
      }
    },
    {
      "cell_type": "markdown",
      "source": [
        "# Understanding `==` (Value Comparison)\n",
        "\n",
        "The `==` operator compares the **values** of two objects, rather than their memory addresses.\n",
        "\n",
        "## Example: Checking Value Equality with `==`\n",
        "\n",
        "\n"
      ],
      "metadata": {
        "id": "0aArFvJ6Wkw9"
      }
    },
    {
      "cell_type": "code",
      "source": [
        "a = [1, 2, 3]\n",
        "b = [1, 2, 3]\n",
        "\n",
        "print(a == b)  # Output: True (Values are the same)\n",
        "print(a is b)  # Output: False (Different memory locations)\n",
        "\n",
        "x = 10\n",
        "y = 10\n",
        "\n",
        "print(x == y)  # Output: True (Same value)\n",
        "print(x is y)  # Output: True (Small integers may share memory)"
      ],
      "metadata": {
        "colab": {
          "base_uri": "https://localhost:8080/"
        },
        "id": "hj6VAtx2OMS3",
        "outputId": "457ea4af-b192-4694-b207-966fcb283504"
      },
      "execution_count": null,
      "outputs": [
        {
          "output_type": "stream",
          "name": "stdout",
          "text": [
            "True\n",
            "False\n",
            "True\n",
            "True\n"
          ]
        }
      ]
    },
    {
      "cell_type": "markdown",
      "source": [
        "# Introduction\n",
        "In Python, functions that take other functions as arguments or return functions as outputs are called higher-order functions. These functions are integral in improving programming skills, enhancing code readability, and enabling modular code. This document explains the concept of higher-order functions in Python, followed by detailed examples of some commonly used higher-order functions like map, filter, reduce, zip, and enumerate.\n",
        "## What Are Higher-Order Functions?\n",
        "A higher-order function is a function that:\n",
        "- Takes another function as an argument, or\n",
        "- Returns a function as its result.\n",
        "\n",
        "In simpler terms, it is a function that operates on other functions.\n",
        "## Real-Life Example\n",
        "Imagine an organization where various team heads oversee specific tasks. When a task comes in, the head (like a higher-order function) doesn't perform the task directly. Instead, the head delegates the task to a team member (function) to handle it. Thus, one function calls another function to perform its action.\n",
        "\n",
        "Another example is in a restaurant, where a recipe (task) is handed to the head chef. Instead of preparing the dish themselves, the head chef delegates it to a junior chef (a function), who then prepares the dish and returns the result.\n",
        "\n",
        "This concept is key in Python's higher-order functions.\n"
      ],
      "metadata": {
        "id": "5kHkHz7lEb0x"
      }
    },
    {
      "cell_type": "markdown",
      "source": [
        "## 1. Map Function\n",
        "The `map` function applies a given function to each item of an iterable (e.g., list, tuple) and returns a list of the results.\n"
      ],
      "metadata": {
        "id": "7sALnIMSEkWB"
      }
    },
    {
      "cell_type": "code",
      "source": [
        "def double(x):\n",
        "    return x * 2\n",
        "\n",
        "numbers = [1, 2, 3, 4, 5]\n",
        "doubled_numbers = list(map(double, numbers))\n",
        "print(doubled_numbers)  # Output: [2, 4, 6, 8, 10]\n"
      ],
      "metadata": {
        "id": "ePKq7y8bWqm4",
        "colab": {
          "base_uri": "https://localhost:8080/"
        },
        "outputId": "a023ce1e-bf1b-4223-fad7-9a7f5863e2ba"
      },
      "execution_count": null,
      "outputs": [
        {
          "output_type": "stream",
          "name": "stdout",
          "text": [
            "[2, 4, 6, 8, 10]\n"
          ]
        }
      ]
    },
    {
      "cell_type": "markdown",
      "source": [
        "## 2. Filter Function\n",
        "The `filter` function filters elements in an iterable based on a condition defined by a function. It only returns elements that satisfy the condition.\n"
      ],
      "metadata": {
        "id": "StsPQyFhEu49"
      }
    },
    {
      "cell_type": "code",
      "source": [
        "def is_even(x):\n",
        "    return x % 2 == 0\n",
        "\n",
        "numbers = [1, 2, 3, 4, 5, 6]\n",
        "even_numbers = list(filter(is_even, numbers))\n",
        "print(even_numbers)  # Output: [2, 4, 6]\n"
      ],
      "metadata": {
        "colab": {
          "base_uri": "https://localhost:8080/"
        },
        "id": "Q4gTKL-9Eqmv",
        "outputId": "d9ac8a48-b531-4d92-d3b9-306d169ffeba"
      },
      "execution_count": null,
      "outputs": [
        {
          "output_type": "stream",
          "name": "stdout",
          "text": [
            "[2, 4, 6]\n"
          ]
        }
      ]
    },
    {
      "cell_type": "markdown",
      "source": [
        "## 3. Reduce Function\n",
        "The `reduce` function takes a function and an iterable, and applies the function cumulatively to the items in the iterable, returning a single output.\n",
        "\n",
        "To use `reduce`, it must be imported from the `functools` module.\n"
      ],
      "metadata": {
        "id": "C-bP7apeExf1"
      }
    },
    {
      "cell_type": "code",
      "source": [
        "from functools import reduce\n",
        "\n",
        "def multiply(x, y):\n",
        "    return x * y\n",
        "\n",
        "numbers = [1, 2, 3, 4, 5]\n",
        "result = reduce(multiply, numbers)\n",
        "print(result)  # Output: 120\n"
      ],
      "metadata": {
        "colab": {
          "base_uri": "https://localhost:8080/"
        },
        "id": "qbplKA9oEzIf",
        "outputId": "de1d9441-4a06-4989-da11-b0d5b1dd2bd1"
      },
      "execution_count": null,
      "outputs": [
        {
          "output_type": "stream",
          "name": "stdout",
          "text": [
            "120\n"
          ]
        }
      ]
    },
    {
      "cell_type": "markdown",
      "source": [
        "## 4. Zip Function\n",
        "The `zip` function combines two or more iterables into tuples, pairing elements from each iterable in the corresponding order.\n"
      ],
      "metadata": {
        "id": "hztyP6B5E1qk"
      }
    },
    {
      "cell_type": "code",
      "source": [
        "names = ['Alice', 'Bob', 'Charlie']\n",
        "ages = [25, 30, 35]\n",
        "zipped = list(zip(names, ages))\n",
        "print(zipped)  # Output: [('Alice', 25), ('Bob', 30), ('Charlie', 35)]\n"
      ],
      "metadata": {
        "colab": {
          "base_uri": "https://localhost:8080/"
        },
        "id": "xstJcNIIEztr",
        "outputId": "58a65993-c75f-4990-e83d-3e8aecf6c431"
      },
      "execution_count": null,
      "outputs": [
        {
          "output_type": "stream",
          "name": "stdout",
          "text": [
            "[('Alice', 25), ('Bob', 30), ('Charlie', 35)]\n"
          ]
        }
      ]
    },
    {
      "cell_type": "markdown",
      "source": [
        "## 5. Enumerate Function\n",
        "The `enumerate` function adds an index to each item in an iterable. It is useful when you need to track the index of items in a loop.\n"
      ],
      "metadata": {
        "id": "yvp4rCghE572"
      }
    },
    {
      "cell_type": "code",
      "source": [
        "fruits = ['apple', 'banana', 'cherry']\n",
        "\n",
        "for index, fruit in enumerate(fruits, start=0):\n",
        "    print(f\"{index}. {fruit}\")\n",
        "\n",
        "# Output:\n",
        "# 1. apple\n",
        "# 2. banana\n",
        "# 3. cherry\n"
      ],
      "metadata": {
        "colab": {
          "base_uri": "https://localhost:8080/"
        },
        "id": "bdBPX257E3qc",
        "outputId": "b7fefbc2-8a5d-4e1a-d764-eac8189519ad"
      },
      "execution_count": null,
      "outputs": [
        {
          "output_type": "stream",
          "name": "stdout",
          "text": [
            "0. apple\n",
            "1. banana\n",
            "2. cherry\n"
          ]
        }
      ]
    },
    {
      "cell_type": "markdown",
      "source": [
        "## Best Practices\n",
        "- **Map and Filter**: Use `map` and `filter` functions for simple operations. However, consider using list comprehensions for better readability.\n",
        "- **Reduce**: Only use `reduce` when absolutely necessary. In most cases, loops can be a more readable and efficient alternative.\n",
        "- **Zip**: Use `zip` when you need to pair items from multiple iterables into tuples.\n",
        "- **Enumerate**: Use `enumerate` when you need to manipulate or track the index of items in an iterable.\n"
      ],
      "metadata": {
        "id": "SMCEwWJCE__X"
      }
    },
    {
      "cell_type": "markdown",
      "source": [
        "## Final Thoughts\n",
        "Higher-order functions are an essential concept in Python that allow for more flexible and powerful programming. By understanding when and how to use functions like `map`, `filter`, `reduce`, `zip`, and `enumerate`, you can write cleaner, more modular, and efficient code. The key is practice and understanding where each function is appropriate to use in real-world programming scenarios. Focus on learning the logic behind these functions and applying them in different contexts to gain mastery.\n"
      ],
      "metadata": {
        "id": "8FNC3m5tFFvN"
      }
    },
    {
      "cell_type": "code",
      "source": [],
      "metadata": {
        "id": "qFeahZhVE7yj"
      },
      "execution_count": null,
      "outputs": []
    }
  ],
  "metadata": {
    "kernelspec": {
      "display_name": "Python 3",
      "language": "python",
      "name": "python3"
    },
    "language_info": {
      "codemirror_mode": {
        "name": "ipython",
        "version": 3
      },
      "file_extension": ".py",
      "mimetype": "text/x-python",
      "name": "python",
      "nbconvert_exporter": "python",
      "pygments_lexer": "ipython3",
      "version": "3.12.1"
    },
    "colab": {
      "provenance": [],
      "include_colab_link": true
    }
  },
  "nbformat": 4,
  "nbformat_minor": 0
}